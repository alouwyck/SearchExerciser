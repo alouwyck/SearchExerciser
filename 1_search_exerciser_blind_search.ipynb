{
  "nbformat": 4,
  "nbformat_minor": 0,
  "metadata": {
    "colab": {
      "name": "1_search_exerciser_blind_search.ipynb",
      "provenance": [],
      "collapsed_sections": [],
      "toc_visible": true
    },
    "kernelspec": {
      "name": "python3",
      "display_name": "Python 3"
    },
    "language_info": {
      "name": "python"
    }
  },
  "cells": [
    {
      "cell_type": "markdown",
      "metadata": {
        "id": "Yb8VjqsUpq6l"
      },
      "source": [
        "<img src=\"data:image/png;base64,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\" align=\"right\" /><br>\n",
        "\n",
        "\n",
        "**INTRODUCTION TO ARTIFICIAL INTELLIGENCE**<br>\n",
        "**SEARCH ALGORITHMS**<br>\n",
        "Stefaan Haspeslagh & Andy Louwyck\n",
        "\n",
        "---\n",
        "\n",
        "\n",
        "\n",
        "---\n",
        "\n"
      ]
    },
    {
      "cell_type": "markdown",
      "metadata": {
        "id": "G9iKCSfT0hsW"
      },
      "source": [
        "#**SEARCH EXERCISER: BLIND SEARCH**"
      ]
    },
    {
      "cell_type": "markdown",
      "source": [
        "This notebook explains how to use `SearchExerciser` to apply blind search algorithms. "
      ],
      "metadata": {
        "id": "vzEW40igLHsI"
      }
    },
    {
      "cell_type": "markdown",
      "source": [
        "##Cloning the GitHub repo"
      ],
      "metadata": {
        "id": "fu4sZeDJLMLb"
      }
    },
    {
      "cell_type": "markdown",
      "source": [
        "The `SearchExerciser` package is cloned from Github repository https://github.com/alouwyck/SearchExerciser:"
      ],
      "metadata": {
        "id": "DJz1YnKe_151"
      }
    },
    {
      "cell_type": "code",
      "source": [
        "import os, shutil\n",
        "\n",
        "# remove directory 'SearchExerciser' if it already exists\n",
        "path = \"SearchExerciser\"\n",
        "if os.path.exists(path):\n",
        "    shutil.rmtree(path)\n",
        "\n",
        "# clone SearchExerciser repository\n",
        "!git clone https://github.com/alouwyck/SearchExerciser\n",
        "\n",
        "# move SearchExerciser package directory to current working directory\n",
        "os.rename(path, 'temp')\n",
        "shutil.copytree(os.path.join('temp', path), path);\n",
        "shutil.rmtree('temp')"
      ],
      "metadata": {
        "colab": {
          "base_uri": "https://localhost:8080/"
        },
        "id": "atiy_-Rnwf0q",
        "outputId": "2f77cf88-ac84-433e-f816-23020e2eda37"
      },
      "execution_count": 1,
      "outputs": [
        {
          "output_type": "stream",
          "name": "stdout",
          "text": [
            "Cloning into 'SearchExerciser'...\n",
            "remote: Enumerating objects: 234, done.\u001b[K\n",
            "remote: Counting objects: 100% (234/234), done.\u001b[K\n",
            "remote: Compressing objects: 100% (162/162), done.\u001b[K\n",
            "remote: Total 234 (delta 137), reused 161 (delta 68), pack-reused 0\u001b[K\n",
            "Receiving objects: 100% (234/234), 221.10 KiB | 22.11 MiB/s, done.\n",
            "Resolving deltas: 100% (137/137), done.\n"
          ]
        }
      ]
    },
    {
      "cell_type": "markdown",
      "source": [
        "## Importing the search algorithms"
      ],
      "metadata": {
        "id": "mo2EqnuWu3Vb"
      }
    },
    {
      "cell_type": "markdown",
      "source": [
        "The following blind search algorithms are avaible with `SearchExerciser`:\n",
        "\n",
        "- Depth-first search (DFS)\n",
        "- Breadth-first search (BFS)\n",
        "- Non-deterministic search (NDS)\n",
        "- Iterative deepening search (IDS)\n",
        "\n",
        "The algorithms are implemented in module `search.blind`:"
      ],
      "metadata": {
        "id": "a7tFFL5Ju7o9"
      }
    },
    {
      "cell_type": "code",
      "source": [
        "from SearchExerciser.search.blind import DFS, BFS, NDS, IDS"
      ],
      "metadata": {
        "id": "0EeFJ5ZhvXjW"
      },
      "execution_count": 2,
      "outputs": []
    },
    {
      "cell_type": "markdown",
      "source": [
        "`DFS`, `BFS`, `NDS`, and `IDS` are classes."
      ],
      "metadata": {
        "id": "OTkfon5k_x9l"
      }
    },
    {
      "cell_type": "markdown",
      "source": [
        "##Solving a maze problem"
      ],
      "metadata": {
        "id": "-IErWUOvL8HJ"
      }
    },
    {
      "cell_type": "markdown",
      "source": [
        "###Creating the maze"
      ],
      "metadata": {
        "id": "b8Pw3sQ_QFbl"
      }
    },
    {
      "cell_type": "markdown",
      "source": [
        "Recall that we need to import class `Maze` from module `maze` to create a maze:"
      ],
      "metadata": {
        "id": "zxZgkc7gMNM-"
      }
    },
    {
      "cell_type": "code",
      "source": [
        "from SearchExerciser.maze import Maze"
      ],
      "metadata": {
        "id": "Apq12n-tLqKm"
      },
      "execution_count": 3,
      "outputs": []
    },
    {
      "cell_type": "markdown",
      "source": [
        "The maze grid is defined by passing a list of strings to static method `Maze.create`. The following characters are used to indicate different grid cells:\n",
        "- start: `'*'`\n",
        "- goal: `'o'`\n",
        "- wall: `'#'`\n",
        "- free: `'.'`"
      ],
      "metadata": {
        "id": "0G0Q_xmsMga2"
      }
    },
    {
      "cell_type": "code",
      "source": [
        "maze = Maze.create(['o....',\n",
        "                    '.###.',\n",
        "                    '.#*#.',\n",
        "                    '.#...',\n",
        "                    '.....'])\n",
        "maze.plot()"
      ],
      "metadata": {
        "colab": {
          "base_uri": "https://localhost:8080/",
          "height": 254
        },
        "id": "M2QoTevgMZ6e",
        "outputId": "5f7c13e8-18dd-4ec0-f786-9c5547f57a97"
      },
      "execution_count": 4,
      "outputs": [
        {
          "output_type": "display_data",
          "data": {
            "text/plain": [
              "<Figure size 288x288 with 1 Axes>"
            ],
            "image/png": "[encoded data removed]"
          },
          "metadata": {
            "needs_background": "light"
          }
        }
      ]
    },
    {
      "cell_type": "markdown",
      "source": [
        "###Depth-first search"
      ],
      "metadata": {
        "id": "HCpRebomQA1b"
      }
    },
    {
      "cell_type": "markdown",
      "source": [
        "To apply depth-first search (DFS), we call method `search` and pass class `DFS` to it:"
      ],
      "metadata": {
        "id": "_RzI_YEXNu67"
      }
    },
    {
      "cell_type": "code",
      "source": [
        "path = maze.search(DFS, print_queue=True)"
      ],
      "metadata": {
        "colab": {
          "base_uri": "https://localhost:8080/"
        },
        "id": "8sCqHMjeQht4",
        "outputId": "286b1f6c-7a42-4021-eb35-83c84a0076a1"
      },
      "execution_count": 5,
      "outputs": [
        {
          "output_type": "stream",
          "name": "stdout",
          "text": [
            "Initial queue:\n",
            "o....  \n",
            ".###.  \n",
            ".#x#.  \n",
            ".#...  \n",
            ".....  \n",
            "\n",
            "Iteration 1\n",
            "Path removed from queue:\n",
            "o....\n",
            ".###.\n",
            ".#x#.\n",
            ".#...\n",
            ".....\n",
            "New paths:\n",
            "o....  \n",
            ".###.  \n",
            ".#x#.  \n",
            ".#x..  \n",
            ".....  \n",
            "Paths in queue:\n",
            "o....  \n",
            ".###.  \n",
            ".#x#.  \n",
            ".#x..  \n",
            ".....  \n",
            "\n",
            "Iteration 2\n",
            "Path removed from queue:\n",
            "o....\n",
            ".###.\n",
            ".#x#.\n",
            ".#x..\n",
            ".....\n",
            "New paths:\n",
            "o....  o....  \n",
            ".###.  .###.  \n",
            ".#x#.  .#x#.  \n",
            ".#xx.  .#x..  \n",
            ".....  ..x..  \n",
            "Paths in queue:\n",
            "o....  o....  \n",
            ".###.  .###.  \n",
            ".#x#.  .#x#.  \n",
            ".#xx.  .#x..  \n",
            ".....  ..x..  \n",
            "\n",
            "Iteration 3\n",
            "Path removed from queue:\n",
            "o....\n",
            ".###.\n",
            ".#x#.\n",
            ".#xx.\n",
            ".....\n",
            "New paths:\n",
            "o....  o....  \n",
            ".###.  .###.  \n",
            ".#x#.  .#x#.  \n",
            ".#xxx  .#xx.  \n",
            ".....  ...x.  \n",
            "Paths in queue:\n",
            "o....  o....  o....  \n",
            ".###.  .###.  .###.  \n",
            ".#x#.  .#x#.  .#x#.  \n",
            ".#xxx  .#xx.  .#x..  \n",
            ".....  ...x.  ..x..  \n",
            "\n",
            "Iteration 4\n",
            "Path removed from queue:\n",
            "o....\n",
            ".###.\n",
            ".#x#.\n",
            ".#xxx\n",
            ".....\n",
            "New paths:\n",
            "o....  o....  \n",
            ".###.  .###.  \n",
            ".#x#x  .#x#.  \n",
            ".#xxx  .#xxx  \n",
            ".....  ....x  \n",
            "Paths in queue:\n",
            "o....  o....  o....  o....  \n",
            ".###.  .###.  .###.  .###.  \n",
            ".#x#x  .#x#.  .#x#.  .#x#.  \n",
            ".#xxx  .#xxx  .#xx.  .#x..  \n",
            ".....  ....x  ...x.  ..x..  \n",
            "\n",
            "Iteration 5\n",
            "Path removed from queue:\n",
            "o....\n",
            ".###.\n",
            ".#x#x\n",
            ".#xxx\n",
            ".....\n",
            "New paths:\n",
            "o....  \n",
            ".###x  \n",
            ".#x#x  \n",
            ".#xxx  \n",
            ".....  \n",
            "Paths in queue:\n",
            "o....  o....  o....  o....  \n",
            ".###x  .###.  .###.  .###.  \n",
            ".#x#x  .#x#.  .#x#.  .#x#.  \n",
            ".#xxx  .#xxx  .#xx.  .#x..  \n",
            ".....  ....x  ...x.  ..x..  \n",
            "\n",
            "Iteration 6\n",
            "Path removed from queue:\n",
            "o....\n",
            ".###x\n",
            ".#x#x\n",
            ".#xxx\n",
            ".....\n",
            "New paths:\n",
            "o...x  \n",
            ".###x  \n",
            ".#x#x  \n",
            ".#xxx  \n",
            ".....  \n",
            "Paths in queue:\n",
            "o...x  o....  o....  o....  \n",
            ".###x  .###.  .###.  .###.  \n",
            ".#x#x  .#x#.  .#x#.  .#x#.  \n",
            ".#xxx  .#xxx  .#xx.  .#x..  \n",
            ".....  ....x  ...x.  ..x..  \n",
            "\n",
            "Iteration 7\n",
            "Path removed from queue:\n",
            "o...x\n",
            ".###x\n",
            ".#x#x\n",
            ".#xxx\n",
            ".....\n",
            "New paths:\n",
            "o..xx  \n",
            ".###x  \n",
            ".#x#x  \n",
            ".#xxx  \n",
            ".....  \n",
            "Paths in queue:\n",
            "o..xx  o....  o....  o....  \n",
            ".###x  .###.  .###.  .###.  \n",
            ".#x#x  .#x#.  .#x#.  .#x#.  \n",
            ".#xxx  .#xxx  .#xx.  .#x..  \n",
            ".....  ....x  ...x.  ..x..  \n",
            "\n",
            "Iteration 8\n",
            "Path removed from queue:\n",
            "o..xx\n",
            ".###x\n",
            ".#x#x\n",
            ".#xxx\n",
            ".....\n",
            "New paths:\n",
            "o.xxx  \n",
            ".###x  \n",
            ".#x#x  \n",
            ".#xxx  \n",
            ".....  \n",
            "Paths in queue:\n",
            "o.xxx  o....  o....  o....  \n",
            ".###x  .###.  .###.  .###.  \n",
            ".#x#x  .#x#.  .#x#.  .#x#.  \n",
            ".#xxx  .#xxx  .#xx.  .#x..  \n",
            ".....  ....x  ...x.  ..x..  \n",
            "\n",
            "Iteration 9\n",
            "Path removed from queue:\n",
            "o.xxx\n",
            ".###x\n",
            ".#x#x\n",
            ".#xxx\n",
            ".....\n",
            "New paths:\n",
            "oxxxx  \n",
            ".###x  \n",
            ".#x#x  \n",
            ".#xxx  \n",
            ".....  \n",
            "Paths in queue:\n",
            "oxxxx  o....  o....  o....  \n",
            ".###x  .###.  .###.  .###.  \n",
            ".#x#x  .#x#.  .#x#.  .#x#.  \n",
            ".#xxx  .#xxx  .#xx.  .#x..  \n",
            ".....  ....x  ...x.  ..x..  \n",
            "\n",
            "Iteration 10\n",
            "Path removed from queue:\n",
            "oxxxx\n",
            ".###x\n",
            ".#x#x\n",
            ".#xxx\n",
            ".....\n",
            "New paths:\n",
            "xxxxx  \n",
            ".###x  \n",
            ".#x#x  \n",
            ".#xxx  \n",
            ".....  \n",
            "Paths in queue:\n",
            "xxxxx  o....  o....  o....  \n",
            ".###x  .###.  .###.  .###.  \n",
            ".#x#x  .#x#.  .#x#.  .#x#.  \n",
            ".#xxx  .#xxx  .#xx.  .#x..  \n",
            ".....  ....x  ...x.  ..x..  \n",
            "\n",
            "Path to goal found in new paths:\n",
            "xxxxx\n",
            ".###x\n",
            ".#x#x\n",
            ".#xxx\n",
            ".....\n",
            "\n",
            "ALGORITHM: Depth-first search\n",
            "RESULT: SUCCES\n",
            "Elapsed time: 0.029656410217285156 seconds\n",
            "Number of iterations: 10\n",
            "Maximum length of queue: 4\n"
          ]
        }
      ]
    },
    {
      "cell_type": "markdown",
      "source": [
        "We clearly see that DFS applies the LIFO method: the new paths that are last added to the queue are removed first. "
      ],
      "metadata": {
        "id": "qscWA9kKwukZ"
      }
    },
    {
      "cell_type": "markdown",
      "source": [
        "Let's plot the found path to the goal:"
      ],
      "metadata": {
        "id": "9gDjUgf7KzXC"
      }
    },
    {
      "cell_type": "code",
      "source": [
        "path.plot()"
      ],
      "metadata": {
        "colab": {
          "base_uri": "https://localhost:8080/",
          "height": 254
        },
        "id": "D5BXGKCZQp-4",
        "outputId": "d13bcce6-9751-49bc-904b-701f5d538431"
      },
      "execution_count": 6,
      "outputs": [
        {
          "output_type": "display_data",
          "data": {
            "text/plain": [
              "<Figure size 288x288 with 1 Axes>"
            ],
            "image/png": "[encoded data removed]"
          },
          "metadata": {
            "needs_background": "light"
          }
        }
      ]
    },
    {
      "cell_type": "markdown",
      "source": [
        "The convention is to select cells in the following order: left, right, up, and down. This explains why the path on the right-hand side is chosen by DFS. It is possible to change the order of the production rules. Suppose we want the cells to be selected in the following order: down, up, right, left. To do this, we need to import classes `Down`, `Up`, `Right`, and `Left`, instantiate them and assign them in the desired order as list to attribute `rules`:"
      ],
      "metadata": {
        "id": "srFV04nERTOv"
      }
    },
    {
      "cell_type": "code",
      "source": [
        "from SearchExerciser.maze import Down, Up, Right, Left\n",
        "\n",
        "maze.rules = [Down(), Up(), Right(), Left()] "
      ],
      "metadata": {
        "id": "yNBA_iztyD-D"
      },
      "execution_count": 8,
      "outputs": []
    },
    {
      "cell_type": "code",
      "source": [
        "maze.search(DFS).plot()"
      ],
      "metadata": {
        "colab": {
          "base_uri": "https://localhost:8080/",
          "height": 341
        },
        "id": "YAU8wDJlyaAD",
        "outputId": "9f6462be-0c1d-47e0-a696-495edf4531c4"
      },
      "execution_count": 9,
      "outputs": [
        {
          "output_type": "stream",
          "name": "stdout",
          "text": [
            "ALGORITHM: Depth-first search\n",
            "RESULT: SUCCES\n",
            "Elapsed time: 0.0029222965240478516 seconds\n",
            "Number of iterations: 13\n",
            "Maximum length of queue: 5\n"
          ]
        },
        {
          "output_type": "display_data",
          "data": {
            "text/plain": [
              "<Figure size 288x288 with 1 Axes>"
            ],
            "image/png": "[encoded data removed]"
          },
          "metadata": {
            "needs_background": "light"
          }
        }
      ]
    },
    {
      "cell_type": "markdown",
      "source": [
        "Again, DFS chooses the path on the right-hand side, but this time, it first goes down as far as possible. To let DFS choose the path on the left-hand side, we could, for instance, define the following order:"
      ],
      "metadata": {
        "id": "VTVOvGlHDFma"
      }
    },
    {
      "cell_type": "code",
      "source": [
        "maze.rules = [Down(), Left(), Up(), Right()]\n",
        "maze.search(DFS).plot()"
      ],
      "metadata": {
        "colab": {
          "base_uri": "https://localhost:8080/",
          "height": 341
        },
        "id": "M3l3ZYvrEEPM",
        "outputId": "d0ee0fe3-f7c5-405a-cf74-5c36eb4f2d8b"
      },
      "execution_count": 13,
      "outputs": [
        {
          "output_type": "stream",
          "name": "stdout",
          "text": [
            "ALGORITHM: Depth-first search\n",
            "RESULT: SUCCES\n",
            "Elapsed time: 0.001211404800415039 seconds\n",
            "Number of iterations: 8\n",
            "Maximum length of queue: 3\n"
          ]
        },
        {
          "output_type": "display_data",
          "data": {
            "text/plain": [
              "<Figure size 288x288 with 1 Axes>"
            ],
            "image/png": "[encoded data removed]"
          },
          "metadata": {
            "needs_background": "light"
          }
        }
      ]
    },
    {
      "cell_type": "markdown",
      "source": [
        "###Breadth-first search"
      ],
      "metadata": {
        "id": "7mSC2rarShlg"
      }
    },
    {
      "cell_type": "markdown",
      "source": [
        "Because breadth-first search (BFS) applies the FIFO method, it always finds the shortest path. Let's check this out:"
      ],
      "metadata": {
        "id": "Ep4DwbEZE3kv"
      }
    },
    {
      "cell_type": "code",
      "source": [
        "maze.rules = [Left(), Right(), Up(), Down()]\n",
        "maze.search(BFS).plot()"
      ],
      "metadata": {
        "colab": {
          "base_uri": "https://localhost:8080/",
          "height": 341
        },
        "id": "MJ4OdNCvE9AN",
        "outputId": "0b72bfe5-f6cf-4f3f-8661-190468f9490a"
      },
      "execution_count": 15,
      "outputs": [
        {
          "output_type": "stream",
          "name": "stdout",
          "text": [
            "ALGORITHM: Breadth-first search\n",
            "RESULT: SUCCES\n",
            "Elapsed time: 0.007689952850341797 seconds\n",
            "Number of iterations: 36\n",
            "Maximum length of queue: 9\n"
          ]
        },
        {
          "output_type": "display_data",
          "data": {
            "text/plain": [
              "<Figure size 288x288 with 1 Axes>"
            ],
            "image/png": "[encoded data removed]"
          },
          "metadata": {
            "needs_background": "light"
          }
        }
      ]
    },
    {
      "cell_type": "markdown",
      "source": [
        "Note that we set the rules to the default left, right, up, and down. In this case, we need 36 iterations to find the shortest path. By re-ordering the production rules, this number can be reduced:"
      ],
      "metadata": {
        "id": "8Qet2t1eFD-g"
      }
    },
    {
      "cell_type": "code",
      "source": [
        "maze.rules = [Up(), Left(), Down(), Right()]\n",
        "maze.search(BFS).plot()"
      ],
      "metadata": {
        "colab": {
          "base_uri": "https://localhost:8080/",
          "height": 341
        },
        "id": "Bgs8q6neFjTJ",
        "outputId": "87bc5400-8b68-44a0-9560-6d0d2495c395"
      },
      "execution_count": 20,
      "outputs": [
        {
          "output_type": "stream",
          "name": "stdout",
          "text": [
            "ALGORITHM: Breadth-first search\n",
            "RESULT: SUCCES\n",
            "Elapsed time: 0.00934600830078125 seconds\n",
            "Number of iterations: 32\n",
            "Maximum length of queue: 9\n"
          ]
        },
        {
          "output_type": "display_data",
          "data": {
            "text/plain": [
              "<Figure size 288x288 with 1 Axes>"
            ],
            "image/png": "[encoded data removed]"
          },
          "metadata": {
            "needs_background": "light"
          }
        }
      ]
    },
    {
      "cell_type": "markdown",
      "source": [
        "###Non-deterministic search"
      ],
      "metadata": {
        "id": "stWNOs-bHgSc"
      }
    },
    {
      "cell_type": "markdown",
      "source": [
        "The non-deterministic search (NDS) algorithm selects nodes randomly. It is implemented in class `NDS`, which uses module `random`. This means we can use function `random.seed` to avoid the randomness and get the same result each time we run the algorithm: "
      ],
      "metadata": {
        "id": "kUGQ5E8JH1EU"
      }
    },
    {
      "cell_type": "code",
      "source": [
        "from random import seed\n",
        "seed(2)\n",
        "maze.rules = [Left(), Right(), Up(), Down()]\n",
        "maze.search(NDS, print_queue=True).plot()"
      ],
      "metadata": {
        "colab": {
          "base_uri": "https://localhost:8080/",
          "height": 1000
        },
        "id": "zFbnJTDLIo-Y",
        "outputId": "000d5892-2712-4d25-9c6a-5bfb20d0e006"
      },
      "execution_count": 42,
      "outputs": [
        {
          "output_type": "stream",
          "name": "stdout",
          "text": [
            "Initial queue:\n",
            "o....  \n",
            ".###.  \n",
            ".#x#.  \n",
            ".#...  \n",
            ".....  \n",
            "\n",
            "Iteration 1\n",
            "Path removed from queue:\n",
            "o....\n",
            ".###.\n",
            ".#x#.\n",
            ".#...\n",
            ".....\n",
            "New paths:\n",
            "o....  \n",
            ".###.  \n",
            ".#x#.  \n",
            ".#x..  \n",
            ".....  \n",
            "Paths in queue:\n",
            "o....  \n",
            ".###.  \n",
            ".#x#.  \n",
            ".#x..  \n",
            ".....  \n",
            "\n",
            "Iteration 2\n",
            "Path removed from queue:\n",
            "o....\n",
            ".###.\n",
            ".#x#.\n",
            ".#x..\n",
            ".....\n",
            "New paths:\n",
            "o....  o....  \n",
            ".###.  .###.  \n",
            ".#x#.  .#x#.  \n",
            ".#xx.  .#x..  \n",
            ".....  ..x..  \n",
            "Paths in queue:\n",
            "o....  o....  \n",
            ".###.  .###.  \n",
            ".#x#.  .#x#.  \n",
            ".#x..  .#xx.  \n",
            "..x..  .....  \n",
            "\n",
            "Iteration 3\n",
            "Path removed from queue:\n",
            "o....\n",
            ".###.\n",
            ".#x#.\n",
            ".#x..\n",
            "..x..\n",
            "New paths:\n",
            "o....  o....  \n",
            ".###.  .###.  \n",
            ".#x#.  .#x#.  \n",
            ".#x..  .#x..  \n",
            ".xx..  ..xx.  \n",
            "Paths in queue:\n",
            "o....  o....  o....  \n",
            ".###.  .###.  .###.  \n",
            ".#x#.  .#x#.  .#x#.  \n",
            ".#x..  .#xx.  .#x..  \n",
            "..xx.  .....  .xx..  \n",
            "\n",
            "Iteration 4\n",
            "Path removed from queue:\n",
            "o....\n",
            ".###.\n",
            ".#x#.\n",
            ".#x..\n",
            "..xx.\n",
            "New paths:\n",
            "o....  o....  \n",
            ".###.  .###.  \n",
            ".#x#.  .#x#.  \n",
            ".#x..  .#xx.  \n",
            "..xxx  ..xx.  \n",
            "Paths in queue:\n",
            "o....  o....  o....  o....  \n",
            ".###.  .###.  .###.  .###.  \n",
            ".#x#.  .#x#.  .#x#.  .#x#.  \n",
            ".#xx.  .#x..  .#xx.  .#x..  \n",
            ".....  .xx..  ..xx.  ..xxx  \n",
            "\n",
            "Iteration 5\n",
            "Path removed from queue:\n",
            "o....\n",
            ".###.\n",
            ".#x#.\n",
            ".#xx.\n",
            ".....\n",
            "New paths:\n",
            "o....  o....  \n",
            ".###.  .###.  \n",
            ".#x#.  .#x#.  \n",
            ".#xxx  .#xx.  \n",
            ".....  ...x.  \n",
            "Paths in queue:\n",
            "o....  o....  o....  o....  o....  \n",
            ".###.  .###.  .###.  .###.  .###.  \n",
            ".#x#.  .#x#.  .#x#.  .#x#.  .#x#.  \n",
            ".#x..  .#xx.  .#xxx  .#x..  .#xx.  \n",
            ".xx..  ..xx.  .....  ..xxx  ...x.  \n",
            "\n",
            "Iteration 6\n",
            "Path removed from queue:\n",
            "o....\n",
            ".###.\n",
            ".#x#.\n",
            ".#x..\n",
            ".xx..\n",
            "New paths:\n",
            "o....  \n",
            ".###.  \n",
            ".#x#.  \n",
            ".#x..  \n",
            "xxx..  \n",
            "Paths in queue:\n",
            "o....  o....  o....  o....  o....  \n",
            ".###.  .###.  .###.  .###.  .###.  \n",
            ".#x#.  .#x#.  .#x#.  .#x#.  .#x#.  \n",
            ".#xx.  .#x..  .#xxx  .#x..  .#xx.  \n",
            "..xx.  xxx..  .....  ..xxx  ...x.  \n",
            "\n",
            "Iteration 7\n",
            "Path removed from queue:\n",
            "o....\n",
            ".###.\n",
            ".#x#.\n",
            ".#xx.\n",
            "..xx.\n",
            "New paths:\n",
            "o....  \n",
            ".###.  \n",
            ".#x#.  \n",
            ".#xxx  \n",
            "..xx.  \n",
            "Paths in queue:\n",
            "o....  o....  o....  o....  o....  \n",
            ".###.  .###.  .###.  .###.  .###.  \n",
            ".#x#.  .#x#.  .#x#.  .#x#.  .#x#.  \n",
            ".#x..  .#xxx  .#x..  .#xx.  .#xxx  \n",
            "xxx..  .....  ..xxx  ...x.  ..xx.  \n",
            "\n",
            "Iteration 8\n",
            "Path removed from queue:\n",
            "o....\n",
            ".###.\n",
            ".#x#.\n",
            ".#x..\n",
            "xxx..\n",
            "New paths:\n",
            "o....  \n",
            ".###.  \n",
            ".#x#.  \n",
            "x#x..  \n",
            "xxx..  \n",
            "Paths in queue:\n",
            "o....  o....  o....  o....  o....  \n",
            ".###.  .###.  .###.  .###.  .###.  \n",
            ".#x#.  .#x#.  .#x#.  .#x#.  .#x#.  \n",
            "x#x..  .#xxx  .#x..  .#xx.  .#xxx  \n",
            "xxx..  .....  ..xxx  ...x.  ..xx.  \n",
            "\n",
            "Iteration 9\n",
            "Path removed from queue:\n",
            "o....\n",
            ".###.\n",
            ".#x#.\n",
            "x#x..\n",
            "xxx..\n",
            "New paths:\n",
            "o....  \n",
            ".###.  \n",
            "x#x#.  \n",
            "x#x..  \n",
            "xxx..  \n",
            "Paths in queue:\n",
            "o....  o....  o....  o....  o....  \n",
            ".###.  .###.  .###.  .###.  .###.  \n",
            ".#x#.  .#x#.  .#x#.  .#x#.  x#x#.  \n",
            ".#xxx  .#x..  .#xx.  .#xxx  x#x..  \n",
            ".....  ..xxx  ...x.  ..xx.  xxx..  \n",
            "\n",
            "Iteration 10\n",
            "Path removed from queue:\n",
            "o....\n",
            ".###.\n",
            ".#x#.\n",
            ".#xxx\n",
            ".....\n",
            "New paths:\n",
            "o....  o....  \n",
            ".###.  .###.  \n",
            ".#x#x  .#x#.  \n",
            ".#xxx  .#xxx  \n",
            ".....  ....x  \n",
            "Paths in queue:\n",
            "o....  o....  o....  o....  o....  o....  \n",
            ".###.  .###.  .###.  .###.  .###.  .###.  \n",
            ".#x#.  .#x#x  .#x#.  .#x#.  .#x#.  x#x#.  \n",
            ".#x..  .#xxx  .#xx.  .#xxx  .#xxx  x#x..  \n",
            "..xxx  .....  ...x.  ....x  ..xx.  xxx..  \n",
            "\n",
            "Iteration 11\n",
            "Path removed from queue:\n",
            "o....\n",
            ".###.\n",
            ".#x#.\n",
            ".#x..\n",
            "..xxx\n",
            "New paths:\n",
            "o....  \n",
            ".###.  \n",
            ".#x#.  \n",
            ".#x.x  \n",
            "..xxx  \n",
            "Paths in queue:\n",
            "o....  o....  o....  o....  o....  o....  \n",
            ".###.  .###.  .###.  .###.  .###.  .###.  \n",
            ".#x#x  .#x#.  .#x#.  .#x#.  x#x#.  .#x#.  \n",
            ".#xxx  .#xx.  .#xxx  .#xxx  x#x..  .#x.x  \n",
            ".....  ...x.  ....x  ..xx.  xxx..  ..xxx  \n",
            "\n",
            "Iteration 12\n",
            "Path removed from queue:\n",
            "o....\n",
            ".###.\n",
            ".#x#x\n",
            ".#xxx\n",
            ".....\n",
            "New paths:\n",
            "o....  \n",
            ".###x  \n",
            ".#x#x  \n",
            ".#xxx  \n",
            ".....  \n",
            "Paths in queue:\n",
            "o....  o....  o....  o....  o....  o....  \n",
            ".###.  .###.  .###.  .###x  .###.  .###.  \n",
            ".#x#.  .#x#.  .#x#.  .#x#x  x#x#.  .#x#.  \n",
            ".#xx.  .#xxx  .#xxx  .#xxx  x#x..  .#x.x  \n",
            "...x.  ....x  ..xx.  .....  xxx..  ..xxx  \n",
            "\n",
            "Iteration 13\n",
            "Path removed from queue:\n",
            "o....\n",
            ".###.\n",
            ".#x#.\n",
            ".#xx.\n",
            "...x.\n",
            "New paths:\n",
            "o....  o....  \n",
            ".###.  .###.  \n",
            ".#x#.  .#x#.  \n",
            ".#xx.  .#xx.  \n",
            "..xx.  ...xx  \n",
            "Paths in queue:\n",
            "o....  o....  o....  o....  o....  o....  o....  \n",
            ".###.  .###.  .###x  .###.  .###.  .###.  .###.  \n",
            ".#x#.  .#x#.  .#x#x  x#x#.  .#x#.  .#x#.  .#x#.  \n",
            ".#xxx  .#xxx  .#xxx  x#x..  .#x.x  .#xx.  .#xx.  \n",
            "....x  ..xx.  .....  xxx..  ..xxx  ..xx.  ...xx  \n",
            "\n",
            "Iteration 14\n",
            "Path removed from queue:\n",
            "o....\n",
            ".###.\n",
            ".#x#.\n",
            ".#xxx\n",
            "....x\n",
            "New paths:\n",
            "o....  \n",
            ".###.  \n",
            ".#x#.  \n",
            ".#xxx  \n",
            "...xx  \n",
            "Paths in queue:\n",
            "o....  o....  o....  o....  o....  o....  o....  \n",
            ".###.  .###x  .###.  .###.  .###.  .###.  .###.  \n",
            ".#x#.  .#x#x  x#x#.  .#x#.  .#x#.  .#x#.  .#x#.  \n",
            ".#xxx  .#xxx  x#x..  .#x.x  .#xxx  .#xx.  .#xx.  \n",
            "..xx.  .....  xxx..  ..xxx  ...xx  ..xx.  ...xx  \n",
            "\n",
            "Iteration 15\n",
            "Path removed from queue:\n",
            "o....\n",
            ".###.\n",
            ".#x#.\n",
            ".#xxx\n",
            "..xx.\n",
            "New paths:\n",
            "o....  o....  \n",
            ".###.  .###.  \n",
            ".#x#x  .#x#.  \n",
            ".#xxx  .#xxx  \n",
            "..xx.  ..xxx  \n",
            "Paths in queue:\n",
            "o....  o....  o....  o....  o....  o....  o....  o....  \n",
            ".###x  .###.  .###.  .###.  .###.  .###.  .###.  .###.  \n",
            ".#x#x  x#x#.  .#x#x  .#x#.  .#x#.  .#x#.  .#x#.  .#x#.  \n",
            ".#xxx  x#x..  .#xxx  .#x.x  .#xxx  .#xx.  .#xx.  .#xxx  \n",
            ".....  xxx..  ..xx.  ..xxx  ...xx  ..xx.  ...xx  ..xxx  \n",
            "\n",
            "Iteration 16\n",
            "Path removed from queue:\n",
            "o....\n",
            ".###x\n",
            ".#x#x\n",
            ".#xxx\n",
            ".....\n",
            "New paths:\n",
            "o...x  \n",
            ".###x  \n",
            ".#x#x  \n",
            ".#xxx  \n",
            ".....  \n",
            "Paths in queue:\n",
            "o....  o....  o....  o....  o...x  o....  o....  o....  \n",
            ".###.  .###.  .###.  .###.  .###x  .###.  .###.  .###.  \n",
            "x#x#.  .#x#x  .#x#.  .#x#.  .#x#x  .#x#.  .#x#.  .#x#.  \n",
            "x#x..  .#xxx  .#x.x  .#xxx  .#xxx  .#xx.  .#xx.  .#xxx  \n",
            "xxx..  ..xx.  ..xxx  ...xx  .....  ..xx.  ...xx  ..xxx  \n",
            "\n",
            "Iteration 17\n",
            "Path removed from queue:\n",
            "o....\n",
            ".###.\n",
            "x#x#.\n",
            "x#x..\n",
            "xxx..\n",
            "New paths:\n",
            "o....  \n",
            "x###.  \n",
            "x#x#.  \n",
            "x#x..  \n",
            "xxx..  \n",
            "Paths in queue:\n",
            "o....  o....  o....  o....  o...x  o....  o....  o....  \n",
            "x###.  .###.  .###.  .###.  .###x  .###.  .###.  .###.  \n",
            "x#x#.  .#x#x  .#x#.  .#x#.  .#x#x  .#x#.  .#x#.  .#x#.  \n",
            "x#x..  .#xxx  .#x.x  .#xxx  .#xxx  .#xx.  .#xx.  .#xxx  \n",
            "xxx..  ..xx.  ..xxx  ...xx  .....  ..xx.  ...xx  ..xxx  \n",
            "\n",
            "Iteration 18\n",
            "Path removed from queue:\n",
            "o....\n",
            "x###.\n",
            "x#x#.\n",
            "x#x..\n",
            "xxx..\n",
            "New paths:\n",
            "x....  \n",
            "x###.  \n",
            "x#x#.  \n",
            "x#x..  \n",
            "xxx..  \n",
            "Paths in queue:\n",
            "x....  o....  o....  o....  o...x  o....  o....  o....  \n",
            "x###.  .###.  .###.  .###.  .###x  .###.  .###.  .###.  \n",
            "x#x#.  .#x#x  .#x#.  .#x#.  .#x#x  .#x#.  .#x#.  .#x#.  \n",
            "x#x..  .#xxx  .#x.x  .#xxx  .#xxx  .#xx.  .#xx.  .#xxx  \n",
            "xxx..  ..xx.  ..xxx  ...xx  .....  ..xx.  ...xx  ..xxx  \n",
            "\n",
            "Path to goal found in new paths:\n",
            "x....\n",
            "x###.\n",
            "x#x#.\n",
            "x#x..\n",
            "xxx..\n",
            "\n",
            "ALGORITHM: Non-deterministic search\n",
            "RESULT: SUCCES\n",
            "Elapsed time: 0.05632519721984863 seconds\n",
            "Number of iterations: 18\n",
            "Maximum length of queue: 8\n"
          ]
        },
        {
          "output_type": "display_data",
          "data": {
            "text/plain": [
              "<Figure size 288x288 with 1 Axes>"
            ],
            "image/png": "[encoded data removed]"
          },
          "metadata": {
            "needs_background": "light"
          }
        }
      ]
    },
    {
      "cell_type": "markdown",
      "source": [
        "We see that this implementation of the non-deterministic search algorithm adds new paths randomly to the queue."
      ],
      "metadata": {
        "id": "4RetwnjSJtXv"
      }
    },
    {
      "cell_type": "markdown",
      "source": [
        "###Iterative deepening search"
      ],
      "metadata": {
        "id": "XK_LQkiTJ_E-"
      }
    },
    {
      "cell_type": "markdown",
      "source": [
        "The final blind search algorithm available with `SearchExerciser` is iterative deepening search (IDS), which iteratively applies depth-limited depth-first search while increasing the depth limit:"
      ],
      "metadata": {
        "id": "rOmv8uYZKEEG"
      }
    },
    {
      "cell_type": "code",
      "source": [
        "maze.search(IDS).plot()"
      ],
      "metadata": {
        "colab": {
          "base_uri": "https://localhost:8080/",
          "height": 1000
        },
        "id": "2KZmbgcVLZ5f",
        "outputId": "dc4ba5d6-295e-4e7c-d9d6-9329f878a7a8"
      },
      "execution_count": 44,
      "outputs": [
        {
          "output_type": "stream",
          "name": "stdout",
          "text": [
            "--> DEPTH: 1\n",
            "ALGORITHM: Depth-first search\n",
            "RESULT: FAILURE\n",
            "Elapsed time: 0.00039124488830566406 seconds\n",
            "Number of iterations: 1\n",
            "Maximum length of queue: 1\n",
            "\n",
            "--> DEPTH: 2\n",
            "ALGORITHM: Depth-first search\n",
            "RESULT: FAILURE\n",
            "Elapsed time: 0.0005218982696533203 seconds\n",
            "Number of iterations: 2\n",
            "Maximum length of queue: 1\n",
            "\n",
            "--> DEPTH: 3\n",
            "ALGORITHM: Depth-first search\n",
            "RESULT: FAILURE\n",
            "Elapsed time: 0.00064849853515625 seconds\n",
            "Number of iterations: 4\n",
            "Maximum length of queue: 2\n",
            "\n",
            "--> DEPTH: 4\n",
            "ALGORITHM: Depth-first search\n",
            "RESULT: FAILURE\n",
            "Elapsed time: 0.01002192497253418 seconds\n",
            "Number of iterations: 8\n",
            "Maximum length of queue: 3\n",
            "\n",
            "--> DEPTH: 5\n",
            "ALGORITHM: Depth-first search\n",
            "RESULT: FAILURE\n",
            "Elapsed time: 0.001051187515258789 seconds\n",
            "Number of iterations: 15\n",
            "Maximum length of queue: 4\n",
            "\n",
            "--> DEPTH: 6\n",
            "ALGORITHM: Depth-first search\n",
            "RESULT: FAILURE\n",
            "Elapsed time: 0.0016942024230957031 seconds\n",
            "Number of iterations: 22\n",
            "Maximum length of queue: 4\n",
            "\n",
            "--> DEPTH: 7\n",
            "ALGORITHM: Depth-first search\n",
            "RESULT: FAILURE\n",
            "Elapsed time: 0.0028009414672851562 seconds\n",
            "Number of iterations: 31\n",
            "Maximum length of queue: 4\n",
            "\n",
            "--> DEPTH: 8\n",
            "ALGORITHM: Depth-first search\n",
            "RESULT: FAILURE\n",
            "Elapsed time: 0.003393411636352539 seconds\n",
            "Number of iterations: 38\n",
            "Maximum length of queue: 4\n",
            "\n",
            "--> DEPTH: 9\n",
            "ALGORITHM: Depth-first search\n",
            "RESULT: SUCCES\n",
            "Elapsed time: 0.002869844436645508 seconds\n",
            "Number of iterations: 31\n",
            "Maximum length of queue: 4\n",
            "\n",
            "--> FINAL RESULT\n",
            "ALGORITHM: Iterative deepening search\n",
            "RESULT: SUCCES\n",
            "Elapsed time: 0.034208059310913086 seconds\n",
            "Number of iterations: 152\n",
            "Maximum length of queue: 4\n"
          ]
        },
        {
          "output_type": "display_data",
          "data": {
            "text/plain": [
              "<Figure size 288x288 with 1 Axes>"
            ],
            "image/png": "[encoded data removed]"
          },
          "metadata": {
            "needs_background": "light"
          }
        }
      ]
    },
    {
      "cell_type": "markdown",
      "source": [
        "IDS finds the shortest path, but for this small problem, there is no computational gain, as we need 152 iterations. For most large problems, however, IDS will be a better choice than BFS!"
      ],
      "metadata": {
        "id": "tXoXK4ARNCTa"
      }
    },
    {
      "cell_type": "markdown",
      "source": [
        "## Solving a graph problem"
      ],
      "metadata": {
        "id": "I_3vdYzgRDAF"
      }
    },
    {
      "cell_type": "markdown",
      "source": [
        "###Creating the graph"
      ],
      "metadata": {
        "id": "OtuZRVdGay5b"
      }
    },
    {
      "cell_type": "markdown",
      "source": [
        "Recall that we need to import class `Graph` from module `graph` to create a graph:"
      ],
      "metadata": {
        "id": "MUv80YqmXhYs"
      }
    },
    {
      "cell_type": "code",
      "source": [
        "from SearchExerciser.graph import Graph"
      ],
      "metadata": {
        "id": "Rptl-xOrM7Ql"
      },
      "execution_count": 45,
      "outputs": []
    },
    {
      "cell_type": "markdown",
      "source": [
        "Blind search algorithms do not take into account costs, nor do they use a heuristic function. So we only need to define the edges:"
      ],
      "metadata": {
        "id": "ViKxNKnUXiFm"
      }
    },
    {
      "cell_type": "code",
      "source": [
        "graph = Graph.create(edges=[(\"S\", \"A\"), (\"S\", \"D\"), (\"A\", \"D\"), (\"A\", \"B\"), (\"D\", \"E\"), \n",
        "                            (\"B\", \"E\"), (\"B\", \"C\"), (\"E\", \"F\"), (\"F\", \"G\")])"
      ],
      "metadata": {
        "id": "ghqrVB4MXdA7"
      },
      "execution_count": 46,
      "outputs": []
    },
    {
      "cell_type": "markdown",
      "source": [
        "We define the node coordinates and visualize the graph calling method `plot`:"
      ],
      "metadata": {
        "id": "BJPh4ASaYCoI"
      }
    },
    {
      "cell_type": "code",
      "source": [
        "coordinates = dict(S=[0, 0.5], \n",
        "                   A=[1, 1],\n",
        "                   D=[2, 0],\n",
        "                   E=[3.5, 0],\n",
        "                   B=[4.5, 1],\n",
        "                   F=[7, 0],\n",
        "                   C=[8, 1],\n",
        "                   G=[9, 0.5])\n",
        "graph.plot(coordinates)"
      ],
      "metadata": {
        "colab": {
          "base_uri": "https://localhost:8080/",
          "height": 319
        },
        "id": "k-othmLKTB3X",
        "outputId": "09f6db92-929e-4886-82b4-e7e5bb72b553"
      },
      "execution_count": 48,
      "outputs": [
        {
          "output_type": "display_data",
          "data": {
            "text/plain": [
              "<Figure size 432x288 with 1 Axes>"
            ],
            "image/png": "[encoded data removed]"
          },
          "metadata": {}
        }
      ]
    },
    {
      "cell_type": "markdown",
      "source": [
        "###Depth-first search"
      ],
      "metadata": {
        "id": "naz5u129jELW"
      }
    },
    {
      "cell_type": "markdown",
      "source": [
        "Let's apply DFS to find a path from start S to gaol G:"
      ],
      "metadata": {
        "id": "k62nBpEHdk43"
      }
    },
    {
      "cell_type": "code",
      "source": [
        "path = graph.search(DFS, print_queue=True)"
      ],
      "metadata": {
        "colab": {
          "base_uri": "https://localhost:8080/"
        },
        "id": "S3d1iSjzdouh",
        "outputId": "2a409c9b-0824-4e8d-e3e4-ae0aae349fa5"
      },
      "execution_count": 49,
      "outputs": [
        {
          "output_type": "stream",
          "name": "stdout",
          "text": [
            "Initial queue:\n",
            "[S]\n",
            "\n",
            "Iteration 1\n",
            "Path removed from queue:\n",
            "S\n",
            "New paths:\n",
            "[SA,SD]\n",
            "Paths in queue:\n",
            "[SA,SD]\n",
            "\n",
            "Iteration 2\n",
            "Path removed from queue:\n",
            "SA\n",
            "New paths:\n",
            "[SAB,SAD]\n",
            "Paths in queue:\n",
            "[SAB,SAD,SD]\n",
            "\n",
            "Iteration 3\n",
            "Path removed from queue:\n",
            "SAB\n",
            "New paths:\n",
            "[SABC,SABE]\n",
            "Paths in queue:\n",
            "[SABC,SABE,SAD,SD]\n",
            "\n",
            "Iteration 4\n",
            "Path removed from queue:\n",
            "SABC\n",
            "New paths:\n",
            "[]\n",
            "Paths in queue:\n",
            "[SABE,SAD,SD]\n",
            "\n",
            "Iteration 5\n",
            "Path removed from queue:\n",
            "SABE\n",
            "New paths:\n",
            "[SABED,SABEF]\n",
            "Paths in queue:\n",
            "[SABED,SABEF,SAD,SD]\n",
            "\n",
            "Iteration 6\n",
            "Path removed from queue:\n",
            "SABED\n",
            "New paths:\n",
            "[]\n",
            "Paths in queue:\n",
            "[SABEF,SAD,SD]\n",
            "\n",
            "Iteration 7\n",
            "Path removed from queue:\n",
            "SABEF\n",
            "New paths:\n",
            "[SABEFG]\n",
            "Paths in queue:\n",
            "[SABEFG,SAD,SD]\n",
            "\n",
            "Path to goal found in new paths:\n",
            "SABEFG\n",
            "\n",
            "ALGORITHM: Depth-first search\n",
            "RESULT: SUCCES\n",
            "Elapsed time: 0.01034998893737793 seconds\n",
            "Number of iterations: 7\n",
            "Maximum length of queue: 4\n"
          ]
        }
      ]
    },
    {
      "cell_type": "markdown",
      "source": [
        "We see that new nodes are selected in ascending alphabetical order. We can check this by getting attribute `rules`:"
      ],
      "metadata": {
        "id": "tdaaiRgud7vC"
      }
    },
    {
      "cell_type": "code",
      "source": [
        "graph.rules"
      ],
      "metadata": {
        "colab": {
          "base_uri": "https://localhost:8080/"
        },
        "id": "M3c7AOxkd02h",
        "outputId": "eecfc8b1-bbb4-4865-f1f0-4f033711ee4c"
      },
      "execution_count": 50,
      "outputs": [
        {
          "output_type": "execute_result",
          "data": {
            "text/plain": [
              "[A, B, C, D, E, F, G, S]"
            ]
          },
          "metadata": {},
          "execution_count": 50
        }
      ]
    },
    {
      "cell_type": "markdown",
      "source": [
        "The list shows us the priority order of the nodes. \n",
        "\n",
        "Suppose now we want the nodes to be selected in descending alphabetical order. To do this, we can simply sort the list, or we may use static method `create_all` of class `ProductionRule`, which uses function `sorted`, and therefore accepts the same optional input arguments `reverse` and `key`:"
      ],
      "metadata": {
        "id": "12zzjtG7eRIl"
      }
    },
    {
      "cell_type": "code",
      "source": [
        "from SearchExerciser.graph import ProductionRule\n",
        "graph.rules = ProductionRule.create_all(graph, reverse=True)\n",
        "graph.rules"
      ],
      "metadata": {
        "colab": {
          "base_uri": "https://localhost:8080/"
        },
        "id": "4gzKwXsNePTz",
        "outputId": "9572b3ca-9f93-4b08-cd2e-357b9dbef26a"
      },
      "execution_count": 52,
      "outputs": [
        {
          "output_type": "execute_result",
          "data": {
            "text/plain": [
              "[S, G, F, E, D, C, B, A]"
            ]
          },
          "metadata": {},
          "execution_count": 52
        }
      ]
    },
    {
      "cell_type": "markdown",
      "source": [
        "Now DFS finds the shortest path:"
      ],
      "metadata": {
        "id": "3qKT5myZfxt1"
      }
    },
    {
      "cell_type": "code",
      "source": [
        "print(\"Path found:\", graph.search(DFS, print_result=False))"
      ],
      "metadata": {
        "colab": {
          "base_uri": "https://localhost:8080/"
        },
        "id": "U_szQT4YfB8Y",
        "outputId": "62c1107f-aeb7-4cf1-f87f-46722f5ec22b"
      },
      "execution_count": 53,
      "outputs": [
        {
          "output_type": "stream",
          "name": "stdout",
          "text": [
            "Path found: SDEFG\n"
          ]
        }
      ]
    },
    {
      "cell_type": "markdown",
      "source": [
        "###Breadth-first search"
      ],
      "metadata": {
        "id": "bboh-ujLgmEW"
      }
    },
    {
      "cell_type": "markdown",
      "source": [
        "We know that BFS also finds the shortest path:"
      ],
      "metadata": {
        "id": "UEwkGBeNgpQ4"
      }
    },
    {
      "cell_type": "code",
      "source": [
        "graph.rules = ProductionRule.create_all(graph)  # reset rules to nodes sorted in ascending alphabetical order\n",
        "graph.search(BFS, print_queue=True);"
      ],
      "metadata": {
        "colab": {
          "base_uri": "https://localhost:8080/"
        },
        "id": "-s8DhUfygAG8",
        "outputId": "bf9fe3d2-e2d6-4a8c-de2c-ab0950281569"
      },
      "execution_count": 58,
      "outputs": [
        {
          "output_type": "stream",
          "name": "stdout",
          "text": [
            "Initial queue:\n",
            "[S]\n",
            "\n",
            "Iteration 1\n",
            "Path removed from queue:\n",
            "S\n",
            "New paths:\n",
            "[SA,SD]\n",
            "Paths in queue:\n",
            "[SA,SD]\n",
            "\n",
            "Iteration 2\n",
            "Path removed from queue:\n",
            "SA\n",
            "New paths:\n",
            "[SAB,SAD]\n",
            "Paths in queue:\n",
            "[SD,SAB,SAD]\n",
            "\n",
            "Iteration 3\n",
            "Path removed from queue:\n",
            "SD\n",
            "New paths:\n",
            "[SDA,SDE]\n",
            "Paths in queue:\n",
            "[SAB,SAD,SDA,SDE]\n",
            "\n",
            "Iteration 4\n",
            "Path removed from queue:\n",
            "SAB\n",
            "New paths:\n",
            "[SABC,SABE]\n",
            "Paths in queue:\n",
            "[SAD,SDA,SDE,SABC,SABE]\n",
            "\n",
            "Iteration 5\n",
            "Path removed from queue:\n",
            "SAD\n",
            "New paths:\n",
            "[SADE]\n",
            "Paths in queue:\n",
            "[SDA,SDE,SABC,SABE,SADE]\n",
            "\n",
            "Iteration 6\n",
            "Path removed from queue:\n",
            "SDA\n",
            "New paths:\n",
            "[SDAB]\n",
            "Paths in queue:\n",
            "[SDE,SABC,SABE,SADE,SDAB]\n",
            "\n",
            "Iteration 7\n",
            "Path removed from queue:\n",
            "SDE\n",
            "New paths:\n",
            "[SDEB,SDEF]\n",
            "Paths in queue:\n",
            "[SABC,SABE,SADE,SDAB,SDEB,SDEF]\n",
            "\n",
            "Iteration 8\n",
            "Path removed from queue:\n",
            "SABC\n",
            "New paths:\n",
            "[]\n",
            "Paths in queue:\n",
            "[SABE,SADE,SDAB,SDEB,SDEF]\n",
            "\n",
            "Iteration 9\n",
            "Path removed from queue:\n",
            "SABE\n",
            "New paths:\n",
            "[SABED,SABEF]\n",
            "Paths in queue:\n",
            "[SADE,SDAB,SDEB,SDEF,SABED,SABEF]\n",
            "\n",
            "Iteration 10\n",
            "Path removed from queue:\n",
            "SADE\n",
            "New paths:\n",
            "[SADEB,SADEF]\n",
            "Paths in queue:\n",
            "[SDAB,SDEB,SDEF,SABED,SABEF,SADEB,SADEF]\n",
            "\n",
            "Iteration 11\n",
            "Path removed from queue:\n",
            "SDAB\n",
            "New paths:\n",
            "[SDABC,SDABE]\n",
            "Paths in queue:\n",
            "[SDEB,SDEF,SABED,SABEF,SADEB,SADEF,SDABC,SDABE]\n",
            "\n",
            "Iteration 12\n",
            "Path removed from queue:\n",
            "SDEB\n",
            "New paths:\n",
            "[SDEBA,SDEBC]\n",
            "Paths in queue:\n",
            "[SDEF,SABED,SABEF,SADEB,SADEF,SDABC,SDABE,SDEBA,SDEBC]\n",
            "\n",
            "Iteration 13\n",
            "Path removed from queue:\n",
            "SDEF\n",
            "New paths:\n",
            "[SDEFG]\n",
            "Paths in queue:\n",
            "[SABED,SABEF,SADEB,SADEF,SDABC,SDABE,SDEBA,SDEBC,SDEFG]\n",
            "\n",
            "Path to goal found in new paths:\n",
            "SDEFG\n",
            "\n",
            "ALGORITHM: Breadth-first search\n",
            "RESULT: SUCCES\n",
            "Elapsed time: 0.02821946144104004 seconds\n",
            "Number of iterations: 13\n",
            "Maximum length of queue: 9\n"
          ]
        }
      ]
    },
    {
      "cell_type": "markdown",
      "source": [
        "### Non-deterministic search"
      ],
      "metadata": {
        "id": "vQR_DrgBg3sV"
      }
    },
    {
      "cell_type": "markdown",
      "source": [
        "Because the non-deterministic search algorithm randomly selects new nodes, we cannot predict which path it will find:"
      ],
      "metadata": {
        "id": "_ewIrQnYiPS2"
      }
    },
    {
      "cell_type": "code",
      "source": [
        "from random import seed\n",
        "seed(20)\n",
        "print(\"Path found:\", graph.search(NDS, print_result=False))"
      ],
      "metadata": {
        "colab": {
          "base_uri": "https://localhost:8080/"
        },
        "id": "dkhUJvdwgwof",
        "outputId": "9b78a2ae-03ec-4976-df2b-b58cd33bd2e5"
      },
      "execution_count": 61,
      "outputs": [
        {
          "output_type": "stream",
          "name": "stdout",
          "text": [
            "Path found: SABEFG\n"
          ]
        }
      ]
    },
    {
      "cell_type": "markdown",
      "source": [
        "### Iterative deepening search"
      ],
      "metadata": {
        "id": "R_MRColziW7v"
      }
    },
    {
      "cell_type": "markdown",
      "source": [
        "As the shortest path consists of 5 nodes, there are 5 outer iterations needed for iterative deepening to find this path:"
      ],
      "metadata": {
        "id": "LkHMWFSTin6a"
      }
    },
    {
      "cell_type": "code",
      "source": [
        "print(\"Path found:\", graph.search(IDS))"
      ],
      "metadata": {
        "colab": {
          "base_uri": "https://localhost:8080/"
        },
        "id": "sWiDZwl9h_zC",
        "outputId": "876335b2-ae79-4618-e2fe-338af0490e4b"
      },
      "execution_count": 63,
      "outputs": [
        {
          "output_type": "stream",
          "name": "stdout",
          "text": [
            "--> DEPTH: 1\n",
            "ALGORITHM: Depth-first search\n",
            "RESULT: FAILURE\n",
            "Elapsed time: 0.0005562305450439453 seconds\n",
            "Number of iterations: 1\n",
            "Maximum length of queue: 1\n",
            "\n",
            "--> DEPTH: 2\n",
            "ALGORITHM: Depth-first search\n",
            "RESULT: FAILURE\n",
            "Elapsed time: 0.000698089599609375 seconds\n",
            "Number of iterations: 3\n",
            "Maximum length of queue: 2\n",
            "\n",
            "--> DEPTH: 3\n",
            "ALGORITHM: Depth-first search\n",
            "RESULT: FAILURE\n",
            "Elapsed time: 0.0010874271392822266 seconds\n",
            "Number of iterations: 7\n",
            "Maximum length of queue: 3\n",
            "\n",
            "--> DEPTH: 4\n",
            "ALGORITHM: Depth-first search\n",
            "RESULT: FAILURE\n",
            "Elapsed time: 0.0010535717010498047 seconds\n",
            "Number of iterations: 13\n",
            "Maximum length of queue: 4\n",
            "\n",
            "--> DEPTH: 5\n",
            "ALGORITHM: Depth-first search\n",
            "RESULT: SUCCES\n",
            "Elapsed time: 0.0016319751739501953 seconds\n",
            "Number of iterations: 21\n",
            "Maximum length of queue: 4\n",
            "\n",
            "--> FINAL RESULT\n",
            "ALGORITHM: Iterative deepening search\n",
            "RESULT: SUCCES\n",
            "Elapsed time: 0.01776909828186035 seconds\n",
            "Number of iterations: 45\n",
            "Maximum length of queue: 4\n",
            "Path found: SDEFG\n"
          ]
        }
      ]
    }
  ]
}