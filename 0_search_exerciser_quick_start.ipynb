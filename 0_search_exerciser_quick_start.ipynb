{
  "nbformat": 4,
  "nbformat_minor": 0,
  "metadata": {
    "colab": {
      "name": "0_search_exerciser_quick_start.ipynb",
      "provenance": [],
      "collapsed_sections": [],
      "toc_visible": true
    },
    "kernelspec": {
      "name": "python3",
      "display_name": "Python 3"
    },
    "language_info": {
      "name": "python"
    }
  },
  "cells": [
    {
      "cell_type": "markdown",
      "metadata": {
        "id": "Yb8VjqsUpq6l"
      },
      "source": [
        "<img src=\"data:image/png;base64,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\" align=\"right\" /><br>\n",
        "\n",
        "\n",
        "**INTRODUCTION TO ARTIFICIAL INTELLIGENCE**<br>\n",
        "**SEARCH ALGORITHMS**<br>\n",
        "Stefaan Haspeslagh & Andy Louwyck\n",
        "\n",
        "---\n",
        "\n",
        "\n",
        "\n",
        "---\n",
        "\n"
      ]
    },
    {
      "cell_type": "markdown",
      "metadata": {
        "id": "G9iKCSfT0hsW"
      },
      "source": [
        "#**SEARCH EXERCISER: QUICK START**"
      ]
    },
    {
      "cell_type": "markdown",
      "source": [
        "`SearchExerciser` is a Python package to help students to exercise search algorithms. "
      ],
      "metadata": {
        "id": "vzEW40igLHsI"
      }
    },
    {
      "cell_type": "markdown",
      "source": [
        "##Cloning the GitHub repo"
      ],
      "metadata": {
        "id": "fu4sZeDJLMLb"
      }
    },
    {
      "cell_type": "markdown",
      "source": [
        "The `SearchExerciser` package is cloned from Github repository https://github.com/alouwyck/SearchExerciser:"
      ],
      "metadata": {
        "id": "DJz1YnKe_151"
      }
    },
    {
      "cell_type": "code",
      "source": [
        "import os, shutil\n",
        "\n",
        "# remove directory 'SearchExerciser' if it already exists\n",
        "path = \"SearchExerciser\"\n",
        "if os.path.exists(path):\n",
        "    shutil.rmtree(path)\n",
        "\n",
        "# clone SearchExerciser repository\n",
        "!git clone https://github.com/alouwyck/SearchExerciser\n",
        "\n",
        "# move SearchExerciser package directory to current working directory\n",
        "os.rename(path, 'temp')\n",
        "shutil.copytree(os.path.join('temp', path), path);\n",
        "shutil.rmtree('temp')"
      ],
      "metadata": {
        "colab": {
          "base_uri": "https://localhost:8080/"
        },
        "id": "atiy_-Rnwf0q",
        "outputId": "0cc387fd-158d-4bcc-c0b9-a42f876fbf6d"
      },
      "execution_count": 12,
      "outputs": [
        {
          "output_type": "stream",
          "name": "stdout",
          "text": [
            "Cloning into 'SearchExerciser'...\n",
            "remote: Enumerating objects: 224, done.\u001b[K\n",
            "remote: Counting objects: 100% (224/224), done.\u001b[K\n",
            "remote: Compressing objects: 100% (155/155), done.\u001b[K\n",
            "remote: Total 224 (delta 130), reused 155 (delta 65), pack-reused 0\u001b[K\n",
            "Receiving objects: 100% (224/224), 176.12 KiB | 7.66 MiB/s, done.\n",
            "Resolving deltas: 100% (130/130), done.\n"
          ]
        }
      ]
    },
    {
      "cell_type": "markdown",
      "source": [
        "##Solving a maze problem"
      ],
      "metadata": {
        "id": "-IErWUOvL8HJ"
      }
    },
    {
      "cell_type": "markdown",
      "source": [
        "###Creating a maze"
      ],
      "metadata": {
        "id": "b8Pw3sQ_QFbl"
      }
    },
    {
      "cell_type": "markdown",
      "source": [
        "To create a new maze, we need to import class `Maze` from module `maze`:"
      ],
      "metadata": {
        "id": "zxZgkc7gMNM-"
      }
    },
    {
      "cell_type": "code",
      "source": [
        "from SearchExerciser.maze import Maze"
      ],
      "metadata": {
        "id": "Apq12n-tLqKm"
      },
      "execution_count": 13,
      "outputs": []
    },
    {
      "cell_type": "markdown",
      "source": [
        "The maze grid is defined using a list of strings. **The number of grid rows must be equal to the number of grid columns!**\n",
        "\n",
        "The following characters are used to indicate different grid cells:\n",
        "- start: `'*'`\n",
        "- goal: `'o'`\n",
        "- barrier: `'#'`\n",
        "- free: `'.'`\n",
        "\n",
        "The list of strings is passed to Static method `Maze.create`, which returns a `Maze` object:"
      ],
      "metadata": {
        "id": "0G0Q_xmsMga2"
      }
    },
    {
      "cell_type": "code",
      "source": [
        "maze = Maze.create(['....#...o',\n",
        "                    '.........',\n",
        "                    '#........',\n",
        "                    '.#...#...',\n",
        "                    '..#......',\n",
        "                    '.........',\n",
        "                    '.........',\n",
        "                    '......#..',\n",
        "                    '*......#.'])\n",
        "maze"
      ],
      "metadata": {
        "colab": {
          "base_uri": "https://localhost:8080/"
        },
        "id": "M2QoTevgMZ6e",
        "outputId": "b90df461-831d-44ed-f17c-70e74e18cbc7"
      },
      "execution_count": 14,
      "outputs": [
        {
          "output_type": "execute_result",
          "data": {
            "text/plain": [
              "....#...o\n",
              ".........\n",
              "#........\n",
              ".#...#...\n",
              "..#......\n",
              ".........\n",
              ".........\n",
              "......#..\n",
              "*......#."
            ]
          },
          "metadata": {},
          "execution_count": 14
        }
      ]
    },
    {
      "cell_type": "markdown",
      "source": [
        "It is also possible to plot the maze:"
      ],
      "metadata": {
        "id": "m9G8FrzkO9q4"
      }
    },
    {
      "cell_type": "code",
      "source": [
        "maze.plot()"
      ],
      "metadata": {
        "colab": {
          "base_uri": "https://localhost:8080/",
          "height": 254
        },
        "id": "gAt2lJheNXxr",
        "outputId": "4d90e92e-76cc-4131-9f3e-7bbd61388062"
      },
      "execution_count": 15,
      "outputs": [
        {
          "output_type": "display_data",
          "data": {
            "text/plain": [
              "<Figure size 288x288 with 1 Axes>"
            ],
            "image/png": "[encoded data removed]"
          },
          "metadata": {
            "needs_background": "light"
          }
        }
      ]
    },
    {
      "cell_type": "markdown",
      "source": [
        "The green cell in the lower left corner is the start and the red cell in the upper right corner is the goal. The purple cells are barriers which must be avoided."
      ],
      "metadata": {
        "id": "8oHz7iDkPQKN"
      }
    },
    {
      "cell_type": "markdown",
      "source": [
        "###Finding a path"
      ],
      "metadata": {
        "id": "HCpRebomQA1b"
      }
    },
    {
      "cell_type": "markdown",
      "source": [
        "To find a path from start to goal, a blind search algorithm may be applied, such as depth-first search (DFS). To do that, we need to import class `DFS` from module `search.blind`:"
      ],
      "metadata": {
        "id": "bEHOoyq1QL7k"
      }
    },
    {
      "cell_type": "code",
      "source": [
        "from SearchExerciser.search.blind import DFS"
      ],
      "metadata": {
        "id": "tp2mVp2GPGXn"
      },
      "execution_count": 16,
      "outputs": []
    },
    {
      "cell_type": "markdown",
      "source": [
        "We call method `search` and pass class `DFS` to it:"
      ],
      "metadata": {
        "id": "_RzI_YEXNu67"
      }
    },
    {
      "cell_type": "code",
      "source": [
        "path = maze.search(DFS)"
      ],
      "metadata": {
        "colab": {
          "base_uri": "https://localhost:8080/"
        },
        "id": "8sCqHMjeQht4",
        "outputId": "99f63a70-3c3b-456f-80cc-ab63a3f555a7"
      },
      "execution_count": 17,
      "outputs": [
        {
          "output_type": "stream",
          "name": "stdout",
          "text": [
            "ALGORITHM: Depth-first search\n",
            "RESULT: SUCCES\n",
            "Elapsed time: 0.0245819091796875 seconds\n",
            "Number of iterations: 66\n",
            "Maximum length of queue: 48\n"
          ]
        }
      ]
    },
    {
      "cell_type": "markdown",
      "source": [
        "The `path` that is found is a `maze.Path` object, which has a `plot` method:"
      ],
      "metadata": {
        "id": "EbA9pmpDRCo9"
      }
    },
    {
      "cell_type": "code",
      "source": [
        "path.plot()"
      ],
      "metadata": {
        "colab": {
          "base_uri": "https://localhost:8080/",
          "height": 254
        },
        "id": "D5BXGKCZQp-4",
        "outputId": "80421ca1-cb3f-4fdf-fea1-9543f86e2f1c"
      },
      "execution_count": 18,
      "outputs": [
        {
          "output_type": "display_data",
          "data": {
            "text/plain": [
              "<Figure size 288x288 with 1 Axes>"
            ],
            "image/png": "[encoded data removed]"
          },
          "metadata": {
            "needs_background": "light"
          }
        }
      ]
    },
    {
      "cell_type": "markdown",
      "source": [
        "The convention is to select cells in the following order: left, right, up, and down. This explains why the path is going from the left to the right and back to the left and so on. Calling method `plot_live` visualizes this very clearly:"
      ],
      "metadata": {
        "id": "srFV04nERTOv"
      }
    },
    {
      "cell_type": "code",
      "source": [
        "path.plot_live(wait=1)  # wait is 0.5 seconds by default"
      ],
      "metadata": {
        "colab": {
          "base_uri": "https://localhost:8080/",
          "height": 254
        },
        "id": "VKnjEMFUQtfP",
        "outputId": "2849a753-9541-4e1a-9093-f7d39535192f"
      },
      "execution_count": 19,
      "outputs": [
        {
          "output_type": "display_data",
          "data": {
            "text/plain": [
              "<Figure size 288x288 with 1 Axes>"
            ],
            "image/png": "[encoded data removed]"
          },
          "metadata": {
            "needs_background": "light"
          }
        }
      ]
    },
    {
      "cell_type": "markdown",
      "source": [
        "If we don't want to print the result, we set input parameter `print_result` to `False`. Let's try to find the shortest path applying the hill climbing (HC) algorithm:"
      ],
      "metadata": {
        "id": "IIqJnObuNWFh"
      }
    },
    {
      "cell_type": "code",
      "source": [
        "from SearchExerciser.search.heuristic import HC\n",
        "\n",
        "maze.search(HC, print_result=False).plot()"
      ],
      "metadata": {
        "colab": {
          "base_uri": "https://localhost:8080/",
          "height": 254
        },
        "id": "ahjVZjbgNdF5",
        "outputId": "392852f9-0024-424e-9989-02266a3ebb7a"
      },
      "execution_count": 20,
      "outputs": [
        {
          "output_type": "display_data",
          "data": {
            "text/plain": [
              "<Figure size 288x288 with 1 Axes>"
            ],
            "image/png": "[encoded data removed]"
          },
          "metadata": {
            "needs_background": "light"
          }
        }
      ]
    },
    {
      "cell_type": "markdown",
      "source": [
        "Class `HC` belongs to module `search.heuristic` as it is a heuristic search algorithm. In case of a maze, the applied heuristic is the Manhattan distance between the current grid cell and the goal."
      ],
      "metadata": {
        "id": "eqWjMERDPecK"
      }
    },
    {
      "cell_type": "markdown",
      "source": [
        "###Finding the optimal path"
      ],
      "metadata": {
        "id": "7mSC2rarShlg"
      }
    },
    {
      "cell_type": "markdown",
      "source": [
        "We may apply the A*-algorithm to find the optimal path. This optimal search algorithm is implemented in class `AS` which is imported from module `search.optimal`:"
      ],
      "metadata": {
        "id": "OLTj-0hcSmX2"
      }
    },
    {
      "cell_type": "code",
      "source": [
        "from SearchExerciser.search.optimal import AS\n",
        "\n",
        "optimal_path = maze.search(AS)"
      ],
      "metadata": {
        "colab": {
          "base_uri": "https://localhost:8080/"
        },
        "id": "h6kfuCWzu1m8",
        "outputId": "156ab360-266b-4b58-faac-31c442215308"
      },
      "execution_count": 21,
      "outputs": [
        {
          "output_type": "stream",
          "name": "stdout",
          "text": [
            "ALGORITHM: A*\n",
            "RESULT: SUCCES\n",
            "Elapsed time: 0.017107486724853516 seconds\n",
            "Number of iterations: 17\n",
            "Maximum length of queue: 15\n",
            "Accumulated cost of path to goal: 16.0\n"
          ]
        }
      ]
    },
    {
      "cell_type": "markdown",
      "source": [
        "The accumulated cost of the found path to the goal is 16 as there are 16 moves required to get to the goal and each move has a cost of 1:"
      ],
      "metadata": {
        "id": "cGFdFLFzMYuG"
      }
    },
    {
      "cell_type": "code",
      "source": [
        "optimal_path.plot()"
      ],
      "metadata": {
        "colab": {
          "base_uri": "https://localhost:8080/",
          "height": 254
        },
        "id": "ZS7vVWNL7Hbl",
        "outputId": "9bb46838-37c3-432d-93e8-e72f9b55d39b"
      },
      "execution_count": 22,
      "outputs": [
        {
          "output_type": "display_data",
          "data": {
            "text/plain": [
              "<Figure size 288x288 with 1 Axes>"
            ],
            "image/png": "[encoded data removed]"
          },
          "metadata": {
            "needs_background": "light"
          }
        }
      ]
    },
    {
      "cell_type": "markdown",
      "source": [
        "Because the cost of each move is 1, the found optimal path is also a shortest path, which consists of a minimum number of grid cells."
      ],
      "metadata": {
        "id": "AE5nvBr3QZ82"
      }
    },
    {
      "cell_type": "markdown",
      "source": [
        "## Solving a graph problem"
      ],
      "metadata": {
        "id": "I_3vdYzgRDAF"
      }
    },
    {
      "cell_type": "markdown",
      "source": [
        "To show the difference between the shortest and the optimal path, we will create a graph problem. To define a graph, we need to import class `Graph` from module 'SearchExerciser.graph`:"
      ],
      "metadata": {
        "id": "ON1Li_5lRdb5"
      }
    },
    {
      "cell_type": "code",
      "source": [
        "from SearchExerciser.graph import Graph"
      ],
      "metadata": {
        "id": "Rptl-xOrM7Ql"
      },
      "execution_count": 23,
      "outputs": []
    },
    {
      "cell_type": "markdown",
      "source": [
        "To create the graph, we pass the edges of the graph to static method `Graph.create`. Each edge is a tuple with the name of the two vertices. The third element of the tuple is the cost of the edge. This element is only required if optimal search algorithms are applied."
      ],
      "metadata": {
        "id": "ViKxNKnUXiFm"
      }
    },
    {
      "cell_type": "code",
      "source": [
        "graph = Graph.create(edges=[(\"S\", \"A\", 3), (\"S\", \"D\", 4), (\"A\", \"D\", 5), (\"A\", \"B\", 4), (\"D\", \"E\", 10), \n",
        "                            (\"B\", \"E\", 5), (\"B\", \"C\", 4), (\"E\", \"F\", 4), (\"F\", \"G\", 3)])"
      ],
      "metadata": {
        "id": "ghqrVB4MXdA7"
      },
      "execution_count": 24,
      "outputs": []
    },
    {
      "cell_type": "markdown",
      "source": [
        "Calling method `plot` the graph can be visualized. It requires the coordinates of all nodes:"
      ],
      "metadata": {
        "id": "BJPh4ASaYCoI"
      }
    },
    {
      "cell_type": "code",
      "source": [
        "coordinates = dict(S=[0, 0.5], \n",
        "                   A=[1, 1],\n",
        "                   D=[2, 0],\n",
        "                   E=[3.5, 0],\n",
        "                   B=[4.5, 1],\n",
        "                   F=[7, 0],\n",
        "                   C=[8, 1],\n",
        "                   G=[9, 0.5])\n",
        "graph.plot(coordinates)"
      ],
      "metadata": {
        "colab": {
          "base_uri": "https://localhost:8080/",
          "height": 319
        },
        "id": "k-othmLKTB3X",
        "outputId": "c2a31563-4d45-43ee-daf2-797fcc17992f"
      },
      "execution_count": 25,
      "outputs": [
        {
          "output_type": "display_data",
          "data": {
            "text/plain": [
              "<Figure size 432x288 with 1 Axes>"
            ],
            "image/png": "[encoded data removed]"
          },
          "metadata": {}
        }
      ]
    },
    {
      "cell_type": "markdown",
      "source": [
        "###Finding the shortest path"
      ],
      "metadata": {
        "id": "naz5u129jELW"
      }
    },
    {
      "cell_type": "markdown",
      "source": [
        "Let's find the shortest path applying breadth-first search (BFS), which always gives the shortest path:"
      ],
      "metadata": {
        "id": "HsyEhVmHYkjT"
      }
    },
    {
      "cell_type": "code",
      "source": [
        "from SearchExerciser.search.blind import BFS\n",
        "\n",
        "shortest_path = graph.search(BFS)\n",
        "print(\"Shortest path:\", shortest_path)"
      ],
      "metadata": {
        "colab": {
          "base_uri": "https://localhost:8080/"
        },
        "id": "U5EXaMjgVmzI",
        "outputId": "d84331f2-9766-4398-eb6f-9455b3be1b7f"
      },
      "execution_count": 26,
      "outputs": [
        {
          "output_type": "stream",
          "name": "stdout",
          "text": [
            "ALGORITHM: Breadth-first search\n",
            "RESULT: SUCCES\n",
            "Elapsed time: 0.0018415451049804688 seconds\n",
            "Number of iterations: 13\n",
            "Maximum length of queue: 9\n",
            "Shortest path: SDEFG\n"
          ]
        }
      ]
    },
    {
      "cell_type": "markdown",
      "source": [
        "As the shortest path is the path containing the minimum number of nodes, BFS finds \"SDEFG\". The accumulated cost of path \"SDEFG\" is stored in attribute `cost`: "
      ],
      "metadata": {
        "id": "oVWXiBDKg4S7"
      }
    },
    {
      "cell_type": "code",
      "source": [
        "print(f\"Accumulated cost of path {shortest_path}: {shortest_path.cost}\")"
      ],
      "metadata": {
        "colab": {
          "base_uri": "https://localhost:8080/"
        },
        "id": "_Qg7AiidYs1S",
        "outputId": "e13b6444-0af1-44c5-869e-7c80799c9830"
      },
      "execution_count": 27,
      "outputs": [
        {
          "output_type": "stream",
          "name": "stdout",
          "text": [
            "Accumulated cost of path SDEFG: 21.0\n"
          ]
        }
      ]
    },
    {
      "cell_type": "markdown",
      "source": [
        "###Finding the optimal path"
      ],
      "metadata": {
        "id": "4UZTS0gOjHjB"
      }
    },
    {
      "cell_type": "markdown",
      "source": [
        "Path \"SABEFG\" is not the shortest path, but it has the lowest accumulated cost equal to 19. Therefore it is the optimal path, which can be found, for instance, applying optimal uniform cost (OUC):"
      ],
      "metadata": {
        "id": "VeHteSYkiHm2"
      }
    },
    {
      "cell_type": "code",
      "source": [
        "from SearchExerciser.search.optimal import OUC\n",
        "\n",
        "optimal_path = graph.search(OUC)\n",
        "print(\"Optimal path:\", optimal_path)"
      ],
      "metadata": {
        "colab": {
          "base_uri": "https://localhost:8080/"
        },
        "id": "A2vBK_W2h4pG",
        "outputId": "b20705e3-5e0c-4114-879f-871711df8377"
      },
      "execution_count": 28,
      "outputs": [
        {
          "output_type": "stream",
          "name": "stdout",
          "text": [
            "ALGORITHM: Optimal uniform cost\n",
            "RESULT: SUCCES\n",
            "Elapsed time: 0.003030538558959961 seconds\n",
            "Number of iterations: 15\n",
            "Maximum length of queue: 7\n",
            "Accumulated cost of path to goal: 19.0\n",
            "Optimal path: SABEFG\n"
          ]
        }
      ]
    },
    {
      "cell_type": "markdown",
      "source": [
        "When studying search algorithms, it may be useful to print the queue after each iteration, which can be done by setting optional input parameter `print_queue` to `True`:"
      ],
      "metadata": {
        "id": "LNZR-4wZi-m9"
      }
    },
    {
      "cell_type": "code",
      "source": [
        "graph.search(OUC, print_queue=True);"
      ],
      "metadata": {
        "colab": {
          "base_uri": "https://localhost:8080/"
        },
        "id": "W2NtX-uziopW",
        "outputId": "36b1ac38-4e8e-4ed8-e0e9-c5705c502d47"
      },
      "execution_count": 29,
      "outputs": [
        {
          "output_type": "stream",
          "name": "stdout",
          "text": [
            "Initial queue:\n",
            "[S(0.0)]\n",
            "\n",
            "Iteration 1\n",
            "Path removed from queue:\n",
            "S(0.0)\n",
            "New paths:\n",
            "[SA(3.0),SD(4.0)]\n",
            "Paths in queue:\n",
            "[SA(3.0),SD(4.0)]\n",
            "\n",
            "Iteration 2\n",
            "Path removed from queue:\n",
            "SA(3.0)\n",
            "New paths:\n",
            "[SAB(7.0),SAD(8.0)]\n",
            "Paths in queue:\n",
            "[SD(4.0),SAB(7.0),SAD(8.0)]\n",
            "\n",
            "Iteration 3\n",
            "Path removed from queue:\n",
            "SD(4.0)\n",
            "New paths:\n",
            "[SDA(9.0),SDE(14.0)]\n",
            "Paths in queue:\n",
            "[SAB(7.0),SAD(8.0),SDA(9.0),SDE(14.0)]\n",
            "\n",
            "Iteration 4\n",
            "Path removed from queue:\n",
            "SAB(7.0)\n",
            "New paths:\n",
            "[SABC(11.0),SABE(12.0)]\n",
            "Paths in queue:\n",
            "[SAD(8.0),SDA(9.0),SABC(11.0),SABE(12.0),SDE(14.0)]\n",
            "\n",
            "Iteration 5\n",
            "Path removed from queue:\n",
            "SAD(8.0)\n",
            "New paths:\n",
            "[SADE(18.0)]\n",
            "Paths in queue:\n",
            "[SDA(9.0),SABC(11.0),SABE(12.0),SDE(14.0),SADE(18.0)]\n",
            "\n",
            "Iteration 6\n",
            "Path removed from queue:\n",
            "SDA(9.0)\n",
            "New paths:\n",
            "[SDAB(13.0)]\n",
            "Paths in queue:\n",
            "[SABC(11.0),SABE(12.0),SDAB(13.0),SDE(14.0),SADE(18.0)]\n",
            "\n",
            "Iteration 7\n",
            "Path removed from queue:\n",
            "SABC(11.0)\n",
            "New paths:\n",
            "[]\n",
            "Paths in queue:\n",
            "[SABE(12.0),SDAB(13.0),SDE(14.0),SADE(18.0)]\n",
            "\n",
            "Iteration 8\n",
            "Path removed from queue:\n",
            "SABE(12.0)\n",
            "New paths:\n",
            "[SABED(22.0),SABEF(16.0)]\n",
            "Paths in queue:\n",
            "[SDAB(13.0),SDE(14.0),SABEF(16.0),SADE(18.0),SABED(22.0)]\n",
            "\n",
            "Iteration 9\n",
            "Path removed from queue:\n",
            "SDAB(13.0)\n",
            "New paths:\n",
            "[SDABC(17.0),SDABE(18.0)]\n",
            "Paths in queue:\n",
            "[SDE(14.0),SABEF(16.0),SDABC(17.0),SDABE(18.0),SADE(18.0),SABED(22.0)]\n",
            "\n",
            "Iteration 10\n",
            "Path removed from queue:\n",
            "SDE(14.0)\n",
            "New paths:\n",
            "[SDEB(19.0),SDEF(18.0)]\n",
            "Paths in queue:\n",
            "[SABEF(16.0),SDABC(17.0),SDEF(18.0),SDABE(18.0),SADE(18.0),SDEB(19.0),SABED(22.0)]\n",
            "\n",
            "Iteration 11\n",
            "Path removed from queue:\n",
            "SABEF(16.0)\n",
            "New paths:\n",
            "[SABEFG(19.0)]\n",
            "Paths in queue:\n",
            "[SDABC(17.0),SDEF(18.0),SDABE(18.0),SADE(18.0),SABEFG(19.0),SDEB(19.0),SABED(22.0)]\n",
            "\n",
            "Iteration 12\n",
            "Path removed from queue:\n",
            "SDABC(17.0)\n",
            "New paths:\n",
            "[]\n",
            "Paths in queue:\n",
            "[SDEF(18.0),SDABE(18.0),SADE(18.0),SABEFG(19.0),SDEB(19.0),SABED(22.0)]\n",
            "\n",
            "Iteration 13\n",
            "Path removed from queue:\n",
            "SDEF(18.0)\n",
            "New paths:\n",
            "[SDEFG(21.0)]\n",
            "Paths in queue:\n",
            "[SDABE(18.0),SADE(18.0),SABEFG(19.0),SDEB(19.0),SDEFG(21.0),SABED(22.0)]\n",
            "\n",
            "Iteration 14\n",
            "Path removed from queue:\n",
            "SDABE(18.0)\n",
            "New paths:\n",
            "[SDABEF(22.0)]\n",
            "Paths in queue:\n",
            "[SADE(18.0),SABEFG(19.0),SDEB(19.0),SDEFG(21.0),SDABEF(22.0),SABED(22.0)]\n",
            "\n",
            "Iteration 15\n",
            "Path removed from queue:\n",
            "SADE(18.0)\n",
            "New paths:\n",
            "[SADEB(23.0),SADEF(22.0)]\n",
            "Paths in queue:\n",
            "[SABEFG(19.0),SDEB(19.0),SDEFG(21.0),SADEF(22.0),SDABEF(22.0),SABED(22.0),SADEB(23.0)]\n",
            "\n",
            "Path to goal found in new paths:\n",
            "SABEFG(19.0)\n",
            "\n",
            "ALGORITHM: Optimal uniform cost\n",
            "RESULT: SUCCES\n",
            "Elapsed time: 0.01757335662841797 seconds\n",
            "Number of iterations: 15\n",
            "Maximum length of queue: 7\n",
            "Accumulated cost of path to goal: 19.0\n"
          ]
        }
      ]
    },
    {
      "cell_type": "markdown",
      "source": [
        "Note that the accumulated cost of each path is also printed, as the optimal uniform cost algorithm uses it to sort the queue."
      ],
      "metadata": {
        "id": "_YYU-uRYKTdA"
      }
    },
    {
      "cell_type": "markdown",
      "source": [
        "The A*-algorithm also finds the optimal path and its computation is more efficient as it also considers the heuristic values. The heuristic value of a node is an estimate of the cost to go from this node to the goal. In case of a graph problem, the heuristic values must be defined explicitely as node attributes:"
      ],
      "metadata": {
        "id": "LnCLVlAcHu6t"
      }
    },
    {
      "cell_type": "code",
      "source": [
        "graph = Graph.create(edges=[(\"S\", \"A\", 3), (\"S\", \"D\", 4), (\"A\", \"D\", 5), (\"A\", \"B\", 4), (\"D\", \"E\", 10), \n",
        "                            (\"B\", \"E\", 5), (\"B\", \"C\", 4), (\"E\", \"F\", 4), (\"F\", \"G\", 3)], \n",
        "                     heuristic={\"S\":11, \"A\":10.4, \"B\":6.7, \"C\":4, \"D\":8.9, \"E\":6.9, \"F\":3, \"G\":0})\n",
        "graph.plot(coordinates)"
      ],
      "metadata": {
        "colab": {
          "base_uri": "https://localhost:8080/",
          "height": 319
        },
        "id": "VDJncs3dIIAU",
        "outputId": "89a63097-303b-4304-d917-f3fdf171e7b1"
      },
      "execution_count": 30,
      "outputs": [
        {
          "output_type": "display_data",
          "data": {
            "text/plain": [
              "<Figure size 432x288 with 1 Axes>"
            ],
            "image/png": "[encoded data removed]"
          },
          "metadata": {}
        }
      ]
    },
    {
      "cell_type": "code",
      "source": [
        "graph.search(AS, print_queue=True)"
      ],
      "metadata": {
        "colab": {
          "base_uri": "https://localhost:8080/"
        },
        "id": "phZBWrt4Iin6",
        "outputId": "1ff8ed88-42f7-4e9c-83f7-6604c9a75feb"
      },
      "execution_count": 31,
      "outputs": [
        {
          "output_type": "stream",
          "name": "stdout",
          "text": [
            "Initial queue:\n",
            "[S(11.0)]\n",
            "\n",
            "Iteration 1\n",
            "Path removed from queue:\n",
            "S(11.0)\n",
            "New paths:\n",
            "[SA(13.4),SD(12.9)]\n",
            "Paths in queue:\n",
            "[SD(12.9),SA(13.4)]\n",
            "\n",
            "Iteration 2\n",
            "Path removed from queue:\n",
            "SD(12.9)\n",
            "New paths:\n",
            "[SDA(19.4),SDE(20.9)]\n",
            "Redundant paths:\n",
            "[SDA(19.4)]\n",
            "Paths in queue:\n",
            "[SA(13.4),SDE(20.9)]\n",
            "\n",
            "Iteration 3\n",
            "Path removed from queue:\n",
            "SA(13.4)\n",
            "New paths:\n",
            "[SAB(13.7),SAD(16.9)]\n",
            "Paths in queue:\n",
            "[SAB(13.7),SAD(16.9),SDE(20.9)]\n",
            "\n",
            "Iteration 4\n",
            "Path removed from queue:\n",
            "SAB(13.7)\n",
            "New paths:\n",
            "[SABC(15.0),SABE(18.9)]\n",
            "Redundant paths:\n",
            "[SDE(20.9)]\n",
            "Paths in queue:\n",
            "[SABC(15.0),SAD(16.9),SABE(18.9)]\n",
            "\n",
            "Iteration 5\n",
            "Path removed from queue:\n",
            "SABC(15.0)\n",
            "New paths:\n",
            "[]\n",
            "Paths in queue:\n",
            "[SAD(16.9),SABE(18.9)]\n",
            "\n",
            "Iteration 6\n",
            "Path removed from queue:\n",
            "SAD(16.9)\n",
            "New paths:\n",
            "[SADE(24.9)]\n",
            "Redundant paths:\n",
            "[SADE(24.9)]\n",
            "Paths in queue:\n",
            "[SABE(18.9)]\n",
            "\n",
            "Iteration 7\n",
            "Path removed from queue:\n",
            "SABE(18.9)\n",
            "New paths:\n",
            "[SABED(30.9),SABEF(19.0)]\n",
            "Paths in queue:\n",
            "[SABEF(19.0),SABED(30.9)]\n",
            "\n",
            "Iteration 8\n",
            "Path removed from queue:\n",
            "SABEF(19.0)\n",
            "New paths:\n",
            "[SABEFG(19.0)]\n",
            "Paths in queue:\n",
            "[SABEFG(19.0),SABED(30.9)]\n",
            "\n",
            "Path to goal found in new paths:\n",
            "SABEFG(19.0)\n",
            "\n",
            "ALGORITHM: A*\n",
            "RESULT: SUCCES\n",
            "Elapsed time: 0.008978605270385742 seconds\n",
            "Number of iterations: 8\n",
            "Maximum length of queue: 3\n",
            "Accumulated cost of path to goal: 19.0\n"
          ]
        },
        {
          "output_type": "execute_result",
          "data": {
            "text/plain": [
              "SABEFG"
            ]
          },
          "metadata": {},
          "execution_count": 31
        }
      ]
    },
    {
      "cell_type": "markdown",
      "source": [
        "Note that in case of A*, the f-value of each note is printed, as it is used to sort the queue. The f-value is the sum of the path's accumulated cost and the heuristic value of the path's last node. \n",
        "\n",
        "We also see that A* removes redundant paths. A redundant path has a cost which is larger than the cost of a path in the queue which contains the last node of the redundant path."
      ],
      "metadata": {
        "id": "Hy8uq9RHLE3n"
      }
    },
    {
      "cell_type": "markdown",
      "source": [
        "## Creating random search problems"
      ],
      "metadata": {
        "id": "6UerApnBrI-V"
      }
    },
    {
      "cell_type": "markdown",
      "source": [
        "It is possible to create random mazes and random graphs using the static method `create_random` of the respective classes `Maze` and `Graph`."
      ],
      "metadata": {
        "id": "kL5YMcdarNWt"
      }
    },
    {
      "cell_type": "markdown",
      "source": [
        "###Creating a random maze"
      ],
      "metadata": {
        "id": "9lQAigH6t2u1"
      }
    },
    {
      "cell_type": "markdown",
      "source": [
        "Let's first create a random maze:"
      ],
      "metadata": {
        "id": "FaM19J-KsSL2"
      }
    },
    {
      "cell_type": "code",
      "source": [
        "random_maze = Maze.create_random(size=5, num_of_walls=5, seed=2022)\n",
        "random_maze.plot()"
      ],
      "metadata": {
        "colab": {
          "base_uri": "https://localhost:8080/",
          "height": 254
        },
        "id": "636AgnzqrMTj",
        "outputId": "c685c87e-6332-40e7-ed3b-3c7dd4d1486b"
      },
      "execution_count": 32,
      "outputs": [
        {
          "output_type": "display_data",
          "data": {
            "text/plain": [
              "<Figure size 288x288 with 1 Axes>"
            ],
            "image/png": "[encoded data removed]"
          },
          "metadata": {
            "needs_background": "light"
          }
        }
      ]
    },
    {
      "cell_type": "markdown",
      "source": [
        "We apply depth-first search to find a path in the random maze:"
      ],
      "metadata": {
        "id": "gXx4V0lWsWBv"
      }
    },
    {
      "cell_type": "code",
      "source": [
        "random_maze.search(DFS).plot()"
      ],
      "metadata": {
        "colab": {
          "base_uri": "https://localhost:8080/",
          "height": 341
        },
        "id": "1J5F0KLnr43I",
        "outputId": "22df6037-d33b-4b2f-a111-004a09a64f30"
      },
      "execution_count": 33,
      "outputs": [
        {
          "output_type": "stream",
          "name": "stdout",
          "text": [
            "ALGORITHM: Depth-first search\n",
            "RESULT: SUCCES\n",
            "Elapsed time: 0.0047779083251953125 seconds\n",
            "Number of iterations: 14\n",
            "Maximum length of queue: 6\n"
          ]
        },
        {
          "output_type": "display_data",
          "data": {
            "text/plain": [
              "<Figure size 288x288 with 1 Axes>"
            ],
            "image/png": "[encoded data removed]"
          },
          "metadata": {
            "needs_background": "light"
          }
        }
      ]
    },
    {
      "cell_type": "markdown",
      "source": [
        "###Creating a random graph"
      ],
      "metadata": {
        "id": "Xni6HOp5t6kr"
      }
    },
    {
      "cell_type": "markdown",
      "source": [
        "A random graph is created in a similar way:"
      ],
      "metadata": {
        "id": "AIRk2q_Zsv6x"
      }
    },
    {
      "cell_type": "code",
      "source": [
        "random_graph = Graph.create_random(num_of_nodes=[3, 3], max_num_of_edges=3, seed=2022)\n",
        "random_graph.plot()"
      ],
      "metadata": {
        "colab": {
          "base_uri": "https://localhost:8080/",
          "height": 319
        },
        "id": "Lk-LrQk_sJsx",
        "outputId": "165fba22-223f-4a99-90ec-b59cf5387f0d"
      },
      "execution_count": 34,
      "outputs": [
        {
          "output_type": "display_data",
          "data": {
            "text/plain": [
              "<Figure size 432x288 with 1 Axes>"
            ],
            "image/png": "[encoded data removed]"
          },
          "metadata": {}
        }
      ]
    },
    {
      "cell_type": "code",
      "source": [
        "print(\"The optimal path is\", random_graph.search(AS))"
      ],
      "metadata": {
        "colab": {
          "base_uri": "https://localhost:8080/"
        },
        "id": "JUB6m6Fasqsa",
        "outputId": "3d300147-7da6-4715-f03c-ea96a2a2a481"
      },
      "execution_count": 35,
      "outputs": [
        {
          "output_type": "stream",
          "name": "stdout",
          "text": [
            "ALGORITHM: A*\n",
            "RESULT: SUCCES\n",
            "Elapsed time: 0.0022857189178466797 seconds\n",
            "Number of iterations: 4\n",
            "Maximum length of queue: 2\n",
            "Accumulated cost of path to goal: 19.0\n",
            "The optimal path is SBEG\n"
          ]
        }
      ]
    }
  ]
}