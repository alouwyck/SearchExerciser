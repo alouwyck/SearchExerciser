{
  "nbformat": 4,
  "nbformat_minor": 0,
  "metadata": {
    "colab": {
      "name": "2_search_exerciser_heuristic_search.ipynb",
      "provenance": [],
      "collapsed_sections": [],
      "toc_visible": true
    },
    "kernelspec": {
      "name": "python3",
      "display_name": "Python 3"
    },
    "language_info": {
      "name": "python"
    }
  },
  "cells": [
    {
      "cell_type": "markdown",
      "metadata": {
        "id": "Yb8VjqsUpq6l"
      },
      "source": [
        "<img src=\"data:image/png;base64,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\" align=\"right\" /><br>\n",
        "\n",
        "\n",
        "**INTRODUCTION TO ARTIFICIAL INTELLIGENCE**<br>\n",
        "**SEARCH ALGORITHMS**<br>\n",
        "Stefaan Haspeslagh & Andy Louwyck\n",
        "\n",
        "---\n",
        "\n",
        "\n",
        "\n",
        "---\n",
        "\n"
      ]
    },
    {
      "cell_type": "markdown",
      "metadata": {
        "id": "G9iKCSfT0hsW"
      },
      "source": [
        "#**SEARCH EXERCISER: HEURISTIC SEARCH**"
      ]
    },
    {
      "cell_type": "markdown",
      "source": [
        "This notebook explains how to use `SearchExerciser` to apply heuristic search algorithms. "
      ],
      "metadata": {
        "id": "vzEW40igLHsI"
      }
    },
    {
      "cell_type": "markdown",
      "source": [
        "##Cloning the GitHub repo"
      ],
      "metadata": {
        "id": "fu4sZeDJLMLb"
      }
    },
    {
      "cell_type": "markdown",
      "source": [
        "The `SearchExerciser` package is cloned from Github repository https://github.com/alouwyck/SearchExerciser:"
      ],
      "metadata": {
        "id": "DJz1YnKe_151"
      }
    },
    {
      "cell_type": "code",
      "source": [
        "import os, shutil\n",
        "\n",
        "# remove directory 'SearchExerciser' if it already exists\n",
        "path = \"SearchExerciser\"\n",
        "if os.path.exists(path):\n",
        "    shutil.rmtree(path)\n",
        "\n",
        "# clone SearchExerciser repository\n",
        "!git clone https://github.com/alouwyck/SearchExerciser\n",
        "\n",
        "# move SearchExerciser package directory to current working directory\n",
        "os.rename(path, 'temp')\n",
        "shutil.copytree(os.path.join('temp', path), path);\n",
        "shutil.rmtree('temp')"
      ],
      "metadata": {
        "colab": {
          "base_uri": "https://localhost:8080/"
        },
        "id": "atiy_-Rnwf0q",
        "outputId": "7ba4ddd8-7a78-40ad-cf8d-95825eff23bb"
      },
      "execution_count": 1,
      "outputs": [
        {
          "output_type": "stream",
          "name": "stdout",
          "text": [
            "Cloning into 'SearchExerciser'...\n",
            "remote: Enumerating objects: 244, done.\u001b[K\n",
            "remote: Counting objects: 100% (244/244), done.\u001b[K\n",
            "remote: Compressing objects: 100% (170/170), done.\u001b[K\n",
            "remote: Total 244 (delta 143), reused 167 (delta 70), pack-reused 0\u001b[K\n",
            "Receiving objects: 100% (244/244), 247.93 KiB | 10.78 MiB/s, done.\n",
            "Resolving deltas: 100% (143/143), done.\n"
          ]
        }
      ]
    },
    {
      "cell_type": "markdown",
      "source": [
        "## Importing the search algorithms"
      ],
      "metadata": {
        "id": "mo2EqnuWu3Vb"
      }
    },
    {
      "cell_type": "markdown",
      "source": [
        "The following heuristic search algorithms are avaible with `SearchExerciser`:\n",
        "\n",
        "- Hill climbing (HC)\n",
        "- Greedy search (GS)\n",
        "- Beam search (BS)\n",
        "\n",
        "The algorithms are implemented in module `search.heuristic`:"
      ],
      "metadata": {
        "id": "a7tFFL5Ju7o9"
      }
    },
    {
      "cell_type": "code",
      "source": [
        "from SearchExerciser.search.heuristic import HC, GS, BS"
      ],
      "metadata": {
        "id": "0EeFJ5ZhvXjW"
      },
      "execution_count": 7,
      "outputs": []
    },
    {
      "cell_type": "markdown",
      "source": [
        "`HC`, `GS`, and `BS` are classes."
      ],
      "metadata": {
        "id": "OTkfon5k_x9l"
      }
    },
    {
      "cell_type": "markdown",
      "source": [
        "##Solving a maze problem"
      ],
      "metadata": {
        "id": "-IErWUOvL8HJ"
      }
    },
    {
      "cell_type": "markdown",
      "source": [
        "###Creating the maze"
      ],
      "metadata": {
        "id": "b8Pw3sQ_QFbl"
      }
    },
    {
      "cell_type": "markdown",
      "source": [
        "Recall that we need to import class `Maze` from module `maze` to create a maze:"
      ],
      "metadata": {
        "id": "zxZgkc7gMNM-"
      }
    },
    {
      "cell_type": "code",
      "source": [
        "from SearchExerciser.maze import Maze"
      ],
      "metadata": {
        "id": "Apq12n-tLqKm"
      },
      "execution_count": 2,
      "outputs": []
    },
    {
      "cell_type": "markdown",
      "source": [
        "The maze grid is defined by passing a list of strings to static method `Maze.create`. The following characters are used to indicate different grid cells:\n",
        "- start: `'*'`\n",
        "- goal: `'o'`\n",
        "- wall: `'#'`\n",
        "- free: `'.'`"
      ],
      "metadata": {
        "id": "0G0Q_xmsMga2"
      }
    },
    {
      "cell_type": "code",
      "source": [
        "maze = Maze.create(['o....',\n",
        "                    '.###.',\n",
        "                    '.#*#.',\n",
        "                    '.#...',\n",
        "                    '.....'])\n",
        "maze.plot()"
      ],
      "metadata": {
        "colab": {
          "base_uri": "https://localhost:8080/",
          "height": 254
        },
        "id": "M2QoTevgMZ6e",
        "outputId": "c1a472ee-965e-41ae-9a96-dccf3f716d83"
      },
      "execution_count": 3,
      "outputs": [
        {
          "output_type": "display_data",
          "data": {
            "text/plain": [
              "<Figure size 288x288 with 1 Axes>"
            ],
            "image/png": "[encoded data removed]"
          },
          "metadata": {
            "needs_background": "light"
          }
        }
      ]
    },
    {
      "cell_type": "markdown",
      "source": [
        "To solve maze problems applying one of the heuristic search algorithms, the Manhattan distance to the goal is used as heuristic function. This distance is returned by method `distance_to_goal`. For instance, the Manhattan distance from start to goal is 4:"
      ],
      "metadata": {
        "id": "XkT93UK_tsXa"
      }
    },
    {
      "cell_type": "code",
      "source": [
        "start = maze.get_start_position()\n",
        "goal = maze.get_goal_position()\n",
        "distance = maze.distance_to_goal(start)\n",
        "print(f\"Manhattan distance from start {start} to goal {goal} is {distance}\")"
      ],
      "metadata": {
        "colab": {
          "base_uri": "https://localhost:8080/"
        },
        "id": "dWAqoNcSuQbY",
        "outputId": "24b098f3-a8cf-40f5-bcad-ecc63e3e1663"
      },
      "execution_count": 4,
      "outputs": [
        {
          "output_type": "stream",
          "name": "stdout",
          "text": [
            "Manhattan distance from start (2, 2) to goal (0, 0) is 4\n"
          ]
        }
      ]
    },
    {
      "cell_type": "markdown",
      "source": [
        "To calculate the Manhattan distance for any grid cell `(irow, icol)`, we need to import class `Position` from module `maze`:"
      ],
      "metadata": {
        "id": "XakQAIGbueqO"
      }
    },
    {
      "cell_type": "code",
      "source": [
        "from SearchExerciser.maze import Position\n",
        "maze.distance_to_goal(Position(irow=4, icol=4))  # cell in lower right corner"
      ],
      "metadata": {
        "colab": {
          "base_uri": "https://localhost:8080/"
        },
        "id": "YFngNSemuzsJ",
        "outputId": "ddedf884-50cf-4ba8-b1e5-ca50f09e6292"
      },
      "execution_count": 5,
      "outputs": [
        {
          "output_type": "execute_result",
          "data": {
            "text/plain": [
              "8"
            ]
          },
          "metadata": {},
          "execution_count": 5
        }
      ]
    },
    {
      "cell_type": "markdown",
      "source": [
        "### Hill climbing"
      ],
      "metadata": {
        "id": "3haoFYlmvhtJ"
      }
    },
    {
      "cell_type": "markdown",
      "source": [
        "Just like depth-first search, hill climbing applies the LIFO method, but before added to the queue, the new paths are ordered by the heuristic value of the last node."
      ],
      "metadata": {
        "id": "2aPDKadx451F"
      }
    },
    {
      "cell_type": "code",
      "source": [
        "maze.search(HC).plot()"
      ],
      "metadata": {
        "colab": {
          "base_uri": "https://localhost:8080/",
          "height": 341
        },
        "id": "6zKvzt2lv3L_",
        "outputId": "8688312b-0d6f-47f1-b59f-28946ad13554"
      },
      "execution_count": 14,
      "outputs": [
        {
          "output_type": "stream",
          "name": "stdout",
          "text": [
            "ALGORITHM: Hill Climbing\n",
            "RESULT: SUCCES\n",
            "Elapsed time: 0.0020651817321777344 seconds\n",
            "Number of iterations: 10\n",
            "Maximum length of queue: 4\n"
          ]
        },
        {
          "output_type": "display_data",
          "data": {
            "text/plain": [
              "<Figure size 288x288 with 1 Axes>"
            ],
            "image/png": "[encoded data removed]"
          },
          "metadata": {
            "needs_background": "light"
          }
        }
      ]
    },
    {
      "cell_type": "markdown",
      "source": [
        "### Greedy search"
      ],
      "metadata": {
        "id": "VILtobHCw-8L"
      }
    },
    {
      "cell_type": "markdown",
      "source": [
        "As the name suggests, the greedy search algorithm always selects the path which is closest to the goal. This means greedy search sorts the entire queue by heuristic value, not only the newly created paths."
      ],
      "metadata": {
        "id": "86lMKjZe5OxQ"
      }
    },
    {
      "cell_type": "code",
      "source": [
        "maze.search(GS).plot()"
      ],
      "metadata": {
        "colab": {
          "base_uri": "https://localhost:8080/",
          "height": 341
        },
        "id": "E_TlCrYWxAqP",
        "outputId": "bd4d4887-1721-43fb-cec0-b7fc3c0635af"
      },
      "execution_count": 12,
      "outputs": [
        {
          "output_type": "stream",
          "name": "stdout",
          "text": [
            "ALGORITHM: Greedy search\n",
            "RESULT: SUCCES\n",
            "Elapsed time: 0.0015559196472167969 seconds\n",
            "Number of iterations: 9\n",
            "Maximum length of queue: 4\n"
          ]
        },
        {
          "output_type": "display_data",
          "data": {
            "text/plain": [
              "<Figure size 288x288 with 1 Axes>"
            ],
            "image/png": "[encoded data removed]"
          },
          "metadata": {
            "needs_background": "light"
          }
        }
      ]
    },
    {
      "cell_type": "markdown",
      "source": [
        "### Beam search"
      ],
      "metadata": {
        "id": "njptNfcMxJoc"
      }
    },
    {
      "cell_type": "markdown",
      "source": [
        "The beam search algorithm creates all children to all paths in the queue and keeps the `width` paths with the lowest heuristic value. In this way, the number of paths in the queue cannot be larger than `width`. So, this is parameter is required input to method `search` if beam search `BS` is applied:  "
      ],
      "metadata": {
        "id": "38KoKF086oDE"
      }
    },
    {
      "cell_type": "code",
      "source": [
        "path = maze.search(BS, width=2, print_queue=True)"
      ],
      "metadata": {
        "colab": {
          "base_uri": "https://localhost:8080/"
        },
        "id": "oBMc7cjV0y1X",
        "outputId": "591c4c62-bb83-48fb-f102-1102317077d8"
      },
      "execution_count": 15,
      "outputs": [
        {
          "output_type": "stream",
          "name": "stdout",
          "text": [
            "Initial queue:\n",
            "o....  \n",
            ".###.  \n",
            ".#x#.  \n",
            ".#...  \n",
            ".....  \n",
            "\n",
            "Iteration 1\n",
            "All paths removed from queue.\n",
            "New paths:\n",
            "o....  \n",
            ".###.  \n",
            ".#x#.  \n",
            ".#x..  \n",
            ".....  \n",
            "Paths in queue:\n",
            "o....  \n",
            ".###.  \n",
            ".#x#.  \n",
            ".#x..  \n",
            ".....  \n",
            "\n",
            "Iteration 2\n",
            "All paths removed from queue.\n",
            "New paths:\n",
            "o....  o....  \n",
            ".###.  .###.  \n",
            ".#x#.  .#x#.  \n",
            ".#xx.  .#x..  \n",
            ".....  ..x..  \n",
            "Paths in queue:\n",
            "o....  o....  \n",
            ".###.  .###.  \n",
            ".#x#.  .#x#.  \n",
            ".#xx.  .#x..  \n",
            ".....  ..x..  \n",
            "\n",
            "Iteration 3\n",
            "All paths removed from queue.\n",
            "New paths:\n",
            "o....  o....  \n",
            ".###.  .###.  \n",
            ".#x#.  .#x#.  \n",
            ".#x..  .#xxx  \n",
            ".xx..  .....  \n",
            "Paths in queue:\n",
            "o....  o....  \n",
            ".###.  .###.  \n",
            ".#x#.  .#x#.  \n",
            ".#x..  .#xxx  \n",
            ".xx..  .....  \n",
            "\n",
            "Iteration 4\n",
            "All paths removed from queue.\n",
            "New paths:\n",
            "o....  o....  \n",
            ".###.  .###.  \n",
            ".#x#.  .#x#x  \n",
            ".#x..  .#xxx  \n",
            "xxx..  .....  \n",
            "Paths in queue:\n",
            "o....  o....  \n",
            ".###.  .###.  \n",
            ".#x#.  .#x#x  \n",
            ".#x..  .#xxx  \n",
            "xxx..  .....  \n",
            "\n",
            "Iteration 5\n",
            "All paths removed from queue.\n",
            "New paths:\n",
            "o....  o....  \n",
            ".###.  .###x  \n",
            ".#x#.  .#x#x  \n",
            "x#x..  .#xxx  \n",
            "xxx..  .....  \n",
            "Paths in queue:\n",
            "o....  o....  \n",
            ".###.  .###x  \n",
            ".#x#.  .#x#x  \n",
            "x#x..  .#xxx  \n",
            "xxx..  .....  \n",
            "\n",
            "Iteration 6\n",
            "All paths removed from queue.\n",
            "New paths:\n",
            "o....  o...x  \n",
            ".###.  .###x  \n",
            "x#x#.  .#x#x  \n",
            "x#x..  .#xxx  \n",
            "xxx..  .....  \n",
            "Paths in queue:\n",
            "o....  o...x  \n",
            ".###.  .###x  \n",
            "x#x#.  .#x#x  \n",
            "x#x..  .#xxx  \n",
            "xxx..  .....  \n",
            "\n",
            "Iteration 7\n",
            "All paths removed from queue.\n",
            "New paths:\n",
            "o....  o..xx  \n",
            "x###.  .###x  \n",
            "x#x#.  .#x#x  \n",
            "x#x..  .#xxx  \n",
            "xxx..  .....  \n",
            "Paths in queue:\n",
            "o....  o..xx  \n",
            "x###.  .###x  \n",
            "x#x#.  .#x#x  \n",
            "x#x..  .#xxx  \n",
            "xxx..  .....  \n",
            "\n",
            "Iteration 8\n",
            "All paths removed from queue.\n",
            "New paths:\n",
            "x....  o.xxx  \n",
            "x###.  .###x  \n",
            "x#x#.  .#x#x  \n",
            "x#x..  .#xxx  \n",
            "xxx..  .....  \n",
            "Paths in queue:\n",
            "x....  o.xxx  \n",
            "x###.  .###x  \n",
            "x#x#.  .#x#x  \n",
            "x#x..  .#xxx  \n",
            "xxx..  .....  \n",
            "\n",
            "Path to goal found in new paths:\n",
            "x....\n",
            "x###.\n",
            "x#x#.\n",
            "x#x..\n",
            "xxx..\n",
            "\n",
            "ALGORITHM: Beam search\n",
            "RESULT: SUCCES\n",
            "Elapsed time: 0.017702102661132812 seconds\n",
            "Number of iterations: 8\n",
            "Maximum length of queue: 2\n"
          ]
        }
      ]
    },
    {
      "cell_type": "markdown",
      "source": [
        "In this example, beam search finds the shortest path, but that is not always the case. Moreover, it is possible it finds no solution as it doesn't keep all paths in the queue."
      ],
      "metadata": {
        "id": "0_8DXPKi6GMK"
      }
    },
    {
      "cell_type": "code",
      "source": [
        "path.plot()"
      ],
      "metadata": {
        "colab": {
          "base_uri": "https://localhost:8080/",
          "height": 254
        },
        "id": "GSiYbc1p6X8o",
        "outputId": "b80d33e3-c17e-448d-bd1c-5ab2b68caadf"
      },
      "execution_count": 16,
      "outputs": [
        {
          "output_type": "display_data",
          "data": {
            "text/plain": [
              "<Figure size 288x288 with 1 Axes>"
            ],
            "image/png": "[encoded data removed]"
          },
          "metadata": {
            "needs_background": "light"
          }
        }
      ]
    },
    {
      "cell_type": "markdown",
      "source": [
        "## Solving a graph problem"
      ],
      "metadata": {
        "id": "I_3vdYzgRDAF"
      }
    },
    {
      "cell_type": "markdown",
      "source": [
        "###Creating the graph"
      ],
      "metadata": {
        "id": "OtuZRVdGay5b"
      }
    },
    {
      "cell_type": "markdown",
      "source": [
        "Recall that we need to import class `Graph` from module `graph` to create a graph:"
      ],
      "metadata": {
        "id": "MUv80YqmXhYs"
      }
    },
    {
      "cell_type": "code",
      "source": [
        "from SearchExerciser.graph import Graph"
      ],
      "metadata": {
        "id": "Rptl-xOrM7Ql"
      },
      "execution_count": 17,
      "outputs": []
    },
    {
      "cell_type": "markdown",
      "source": [
        "Blind search algorithms do not take into account costs, but they use heuristic values. In case of a graph problem, these values are node attributes we need to pass as dictionary to method `Graph.create`:"
      ],
      "metadata": {
        "id": "ViKxNKnUXiFm"
      }
    },
    {
      "cell_type": "code",
      "source": [
        "graph = Graph.create(edges=[(\"S\", \"A\"), (\"S\", \"D\"), (\"A\", \"D\"), (\"A\", \"B\"), (\"D\", \"E\"), \n",
        "                            (\"B\", \"E\"), (\"B\", \"C\"), (\"E\", \"F\"), (\"F\", \"G\")], \n",
        "                     heuristic={\"S\":11, \"A\":10.4, \"B\":6.7, \"C\":4, \"D\":8.9, \"E\":6.9, \"F\":3, \"G\":0})"
      ],
      "metadata": {
        "id": "ghqrVB4MXdA7"
      },
      "execution_count": 18,
      "outputs": []
    },
    {
      "cell_type": "markdown",
      "source": [
        "We define the node coordinates and visualize the graph calling method `plot`:"
      ],
      "metadata": {
        "id": "BJPh4ASaYCoI"
      }
    },
    {
      "cell_type": "code",
      "source": [
        "coordinates = dict(S=[0, 0.5], \n",
        "                   A=[1, 1],\n",
        "                   D=[2, 0],\n",
        "                   E=[3.5, 0],\n",
        "                   B=[4.5, 1],\n",
        "                   F=[7, 0],\n",
        "                   C=[8, 1],\n",
        "                   G=[9, 0.5])\n",
        "graph.plot(coordinates)"
      ],
      "metadata": {
        "colab": {
          "base_uri": "https://localhost:8080/",
          "height": 319
        },
        "id": "k-othmLKTB3X",
        "outputId": "b5bcdc83-86fd-42bd-9faf-727c318a50f2"
      },
      "execution_count": 19,
      "outputs": [
        {
          "output_type": "display_data",
          "data": {
            "text/plain": [
              "<Figure size 432x288 with 1 Axes>"
            ],
            "image/png": "[encoded data removed]"
          },
          "metadata": {}
        }
      ]
    },
    {
      "cell_type": "markdown",
      "source": [
        "The heuristic value of each node is added indeed to the plot of the graph. In this example, the heuristic values may be interpreted as an estimates of the distance based on bird's eye view (or as the crow flies). "
      ],
      "metadata": {
        "id": "dExM_pty9G9D"
      }
    },
    {
      "cell_type": "markdown",
      "source": [
        "### Hill climbing"
      ],
      "metadata": {
        "id": "Wn42I7uu-HX7"
      }
    },
    {
      "cell_type": "markdown",
      "source": [
        "Hill climbing finds the shortest path in this case:"
      ],
      "metadata": {
        "id": "O8rg8dkU-lO1"
      }
    },
    {
      "cell_type": "code",
      "source": [
        "path = graph.search(HC, print_queue=True)"
      ],
      "metadata": {
        "colab": {
          "base_uri": "https://localhost:8080/"
        },
        "id": "-y_fK3A_-JIX",
        "outputId": "c2f2675a-a0b5-426c-bb71-5d6786465c03"
      },
      "execution_count": 21,
      "outputs": [
        {
          "output_type": "stream",
          "name": "stdout",
          "text": [
            "Initial queue:\n",
            "[S(11.0)]\n",
            "\n",
            "Iteration 1\n",
            "Path removed from queue:\n",
            "S(11.0)\n",
            "New paths:\n",
            "[SD(8.9),SA(10.4)]\n",
            "Paths in queue:\n",
            "[SD(8.9),SA(10.4)]\n",
            "\n",
            "Iteration 2\n",
            "Path removed from queue:\n",
            "SD(8.9)\n",
            "New paths:\n",
            "[SDE(6.9),SDA(10.4)]\n",
            "Paths in queue:\n",
            "[SDE(6.9),SDA(10.4),SA(10.4)]\n",
            "\n",
            "Iteration 3\n",
            "Path removed from queue:\n",
            "SDE(6.9)\n",
            "New paths:\n",
            "[SDEF(3.0),SDEB(6.7)]\n",
            "Paths in queue:\n",
            "[SDEF(3.0),SDEB(6.7),SDA(10.4),SA(10.4)]\n",
            "\n",
            "Iteration 4\n",
            "Path removed from queue:\n",
            "SDEF(3.0)\n",
            "New paths:\n",
            "[SDEFG(0.0)]\n",
            "Paths in queue:\n",
            "[SDEFG(0.0),SDEB(6.7),SDA(10.4),SA(10.4)]\n",
            "\n",
            "Path to goal found in new paths:\n",
            "SDEFG(0.0)\n",
            "\n",
            "ALGORITHM: Hill Climbing\n",
            "RESULT: SUCCES\n",
            "Elapsed time: 0.0029191970825195312 seconds\n",
            "Number of iterations: 4\n",
            "Maximum length of queue: 4\n"
          ]
        }
      ]
    },
    {
      "cell_type": "markdown",
      "source": [
        "Note that the heuristic value of each path is also printed now."
      ],
      "metadata": {
        "id": "KMHSgu-b-sv-"
      }
    },
    {
      "cell_type": "markdown",
      "source": [
        "### Greedy search"
      ],
      "metadata": {
        "id": "wQLr3p47-4jX"
      }
    },
    {
      "cell_type": "markdown",
      "source": [
        "The greedy search algorithm also finds the shortest path:"
      ],
      "metadata": {
        "id": "XwW2cWuB_FW4"
      }
    },
    {
      "cell_type": "code",
      "source": [
        "path = graph.search(GS, print_queue=True)"
      ],
      "metadata": {
        "colab": {
          "base_uri": "https://localhost:8080/"
        },
        "id": "B3zFotCy-Pya",
        "outputId": "b5bbc1bc-69d5-455e-e47d-91c7c0275f8a"
      },
      "execution_count": 22,
      "outputs": [
        {
          "output_type": "stream",
          "name": "stdout",
          "text": [
            "Initial queue:\n",
            "[S(11.0)]\n",
            "\n",
            "Iteration 1\n",
            "Path removed from queue:\n",
            "S(11.0)\n",
            "New paths:\n",
            "[SA(10.4),SD(8.9)]\n",
            "Paths in queue:\n",
            "[SD(8.9),SA(10.4)]\n",
            "\n",
            "Iteration 2\n",
            "Path removed from queue:\n",
            "SD(8.9)\n",
            "New paths:\n",
            "[SDA(10.4),SDE(6.9)]\n",
            "Paths in queue:\n",
            "[SDE(6.9),SDA(10.4),SA(10.4)]\n",
            "\n",
            "Iteration 3\n",
            "Path removed from queue:\n",
            "SDE(6.9)\n",
            "New paths:\n",
            "[SDEB(6.7),SDEF(3.0)]\n",
            "Paths in queue:\n",
            "[SDEF(3.0),SDEB(6.7),SDA(10.4),SA(10.4)]\n",
            "\n",
            "Iteration 4\n",
            "Path removed from queue:\n",
            "SDEF(3.0)\n",
            "New paths:\n",
            "[SDEFG(0.0)]\n",
            "Paths in queue:\n",
            "[SDEFG(0.0),SDEB(6.7),SDA(10.4),SA(10.4)]\n",
            "\n",
            "Path to goal found in new paths:\n",
            "SDEFG(0.0)\n",
            "\n",
            "ALGORITHM: Greedy search\n",
            "RESULT: SUCCES\n",
            "Elapsed time: 0.0039446353912353516 seconds\n",
            "Number of iterations: 4\n",
            "Maximum length of queue: 4\n"
          ]
        }
      ]
    },
    {
      "cell_type": "markdown",
      "source": [
        "###Beam search"
      ],
      "metadata": {
        "id": "bczJJZCS_OaD"
      }
    },
    {
      "cell_type": "markdown",
      "source": [
        "Finally, the beam search algorithm also finds the shortest path, even if we only keep 1 path in the queue, i.e. if `width=1`:"
      ],
      "metadata": {
        "id": "NuvwVYNV_fIe"
      }
    },
    {
      "cell_type": "code",
      "source": [
        "graph.search(BS, width=1, print_queue=True);"
      ],
      "metadata": {
        "colab": {
          "base_uri": "https://localhost:8080/"
        },
        "id": "TETz9OjZ--xY",
        "outputId": "0adf58f1-b808-4a7a-ff4a-3319e016f455"
      },
      "execution_count": 24,
      "outputs": [
        {
          "output_type": "stream",
          "name": "stdout",
          "text": [
            "Initial queue:\n",
            "[S(11.0)]\n",
            "\n",
            "Iteration 1\n",
            "All paths removed from queue.\n",
            "New paths:\n",
            "[SD(8.9)]\n",
            "Paths in queue:\n",
            "[SD(8.9)]\n",
            "\n",
            "Iteration 2\n",
            "All paths removed from queue.\n",
            "New paths:\n",
            "[SDE(6.9)]\n",
            "Paths in queue:\n",
            "[SDE(6.9)]\n",
            "\n",
            "Iteration 3\n",
            "All paths removed from queue.\n",
            "New paths:\n",
            "[SDEF(3.0)]\n",
            "Paths in queue:\n",
            "[SDEF(3.0)]\n",
            "\n",
            "Iteration 4\n",
            "All paths removed from queue.\n",
            "New paths:\n",
            "[SDEFG(0.0)]\n",
            "Paths in queue:\n",
            "[SDEFG(0.0)]\n",
            "\n",
            "Path to goal found in new paths:\n",
            "SDEFG(0.0)\n",
            "\n",
            "ALGORITHM: Beam search\n",
            "RESULT: SUCCES\n",
            "Elapsed time: 0.012485980987548828 seconds\n",
            "Number of iterations: 4\n",
            "Maximum length of queue: 1\n"
          ]
        }
      ]
    }
  ]
}