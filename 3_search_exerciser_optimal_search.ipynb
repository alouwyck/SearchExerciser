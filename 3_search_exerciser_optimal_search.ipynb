{
  "nbformat": 4,
  "nbformat_minor": 0,
  "metadata": {
    "colab": {
      "name": "3_search_exerciser_optimal_search.ipynb",
      "provenance": [],
      "collapsed_sections": []
    },
    "kernelspec": {
      "name": "python3",
      "display_name": "Python 3"
    },
    "language_info": {
      "name": "python"
    }
  },
  "cells": [
    {
      "cell_type": "markdown",
      "metadata": {
        "id": "Yb8VjqsUpq6l"
      },
      "source": [
        "<img src=\"data:image/png;base64,iVBORw0KGgoAAAANSUhEUgAAAF0AAAA1CAYAAAAj1uf0AAAAAXNSR0IArs4c6QAAAARnQU1BAACxjwv8YQUAAAAJcEhZcwAADsQAAA7EAZUrDhsAAAzaSURBVHhe7ZsJdFTVGcf/b9ZMMtnDGoWyLwEO0AounIpSKLIpgooBOVqL2qrH04oiiyClSi2ISrV1o6BgVRalKGBFkVZAQWQRJGwhCdlJZjL78mbeu/3unTchgbAFCOfM5HfOzb33e+++efN/3/3u8iYSI9BMk6LT8maakGZP1wjs3Anf2nUIfvct5O/3QfHYoJJdoqTXWWDs1R2mWwbBMuBGWHMniDaNJa5FV4NBVE/5LVzLV0TEhRGSzgQYDZD0elKHWwGmKEA4DBYOgSGIENmSbrgJ6bNnI3H4MHHOxRCXovMvXDFkGDybN5HMFugSLbUCXxgSWCCAsOKBzmBG263fwDzwOu3Y+Ym7mO588w0cI4HlLdthTsqELinxIgXnMEgJZhh5e70FxdcPQNmNv9SOnZ+48vTSnr0RzDsAgzWLdLu8X1v1eqBQ6OngdEGXkqxZGyZuRC9s0RKodpBnp2iWyw+P/XLAgQ6lZTC0baNZzyQuRC9s2QpSlQtSUpJmuYKQmkGfDR1tdugz0jVjfWI+ppf2HwhU2ZtGcA4ND6aEdBRmZmiGM4lp0T2rViKwZyeFlFTN0jRIeh0MNCsq6dNfs9QnpsPLUZqV8BnK1SLktaH1hvVIum2EZokQs55+cvw4moMnaLWrg9GSgfIRI7XaKWJWdOeajymsWLXaVUIn0SoXcC1bFqlrNInoCl9GNyG2Z58lLzdS6dyRk3m9kCkE8HTxC6QLQ2dORc3jf9RqEWIyphdIZugSEiP7J2eB+QMw3Xw92mz+EqrDgYL0dLHCvPzQ6tdbjY5uN3TWSM+LufDCQiFaGcokuEGzNAxTvUh5eIoo69LSRH65V6kRGM1kdHD+7TWtHoOiu5csFXGUhWSwIKU6QvIyk8kmhyBZ0lE1IReej1ahYsRoscPIQuGzt6GHWYtKNuopPDX0oBjfkfT5wQJBcVzSWRD4erN2tI7oqr1GK9WH+alxAxdWnU6Eyyug8gtrKDUNX0N1us4TXc+OardrpYYJ2yge1yGUf5j+0gDWqT0MOZ0Bny8iHE8+Dww9OsLQqR1UvwcwW1E54W4ENm4C9AnQd25HbTqJ8+q36QR9x3ZCfMXrRMhvh3noIJhvvQEhn10IHEES00RYTEgYPQSm6/tBpuOS0YjApi3aOQRdWFA8dixTXC4WdjqZnHdI2Gxz5jD7rLnM+fqbos7xb90u8qIBA5n7k49ZqKiIqW6PsJXl5jLF52OhEyVMcTiZGgwKe/nEicy/4XNR5gT37BO5XFDElJAsyv5vtopccbmZfLxAlIN797PiMaNZuKJS1MmDWKi4VBSj91g6bhxT/H5R5pQNHcqOnPparGbhAlYAPSUTs814RrMyVtipg1aKcKBOG9szT4vzebual14SNpUSPU52cvIkUa9LSZccViglsqN0PLB7t2Y9BbfXvadaT5fIGyvHT4B6sgonenSHf9NX8K75BIYOHeDbuAFlv74NZcNHkm01deElMOX0RHDbDsi79+JEl644bkqC5Rc/R/ngIWAeN4p79MRxs1lc29SqJVzvLUfl44+hZMANcLz6Krxr/43qp6ei0GiC7ZnpcMyZB9sL83E0JZlGfDMK21wLpaQE5s6dUPPkNNhnzKT76omTd91D9/M5bDNnobhLDxi7dqVB89R8XDleQjGUZjBPPyXq1kmTEKYoz+O8NXeisFU//BBQUoUa+rwovI1j4UJRtk6cJM7n7ayTIm2qcu+FpUt3tHh3uajzHlI1ebIoZx85gBDzIXnUKJj79RN77aUDBqLy3ntQM/s5urbEdwdqqRWdmYyQaGpXOeVBpEy6H7rUFCh+H8KHDyN9zmyo5eXU11XoMzMpZinwf7QaxnbtqZsGoHo8aPHKIoToHEOHnyF04oSYjmW+8KK4tkxhqMVbbyBcQdegeKfPzIDOYEJw3Ua0O14ApYyE6twZ1uHDkb38XyjPnQB9Eomfmgy5uARZK5Yi7PNCUnWQ0tPAHC7o+N5GKCjCn++z9eJzBBTLdQYrnAsiAhpatRZfmIc3U04vYXO89TY9HQnOmTNEncOFcDw1U5RNvXqLnLcztGwlyvYPPkTmgsj3KR89Ek4aC2zLl8P9zjvCljLhHkjRDS6zCTq6T9eHK2GfN5dmLS3qiV7r87zbhvKPi7J37TqRy8fyWai0VIQJ+chRYfN+tkHkoaITLFxVzdRAgIVrnMz/3Q4Wjnb9g4coTLkoFG0T9VBhkcjlvCMi93+zjSl2G6sYeYfoshzPx2uZKsvMs3KNqHO869azcEmZKNODFJ8VPJgn6oHvdlIsUiLl3XtEzinu1psVGlNYPl3Xvz0SCivvm8jKhw0TZe/69eJYoSWdFRmThY3Duz8PA3L+MVEvHzmCVU7MFWX38hXiPhWHXdQbwv78PNH+dBz/eE18Xt3wclXn6a7Ff0fSvXdB36KFZrl0KkaNRHDDFuHZlvEj0GrlKnjefQ/hwiKkzXkW5b8aCvnrb8mdIz27newS7fg+jQmJsNx/F1ouXQbH/BehT89A8iNTUNKnL4L796H9iSIYrm0H5z+XIHzsGA2QJtGWe3bg088Q2vUTQmE3ku+4A4ljxiD5gQfE4ZKeveHPO4AuUamF9I2Eeyb3cI5/2zYmk0dzm++LTcIW3Pcjcy19l4XdNDjSwOf/egsL7NzBAjt2ssCeveIc38YvmOu9Fcy9ajVzLHyZVf9hqrBXPfq4yOX8fJGH3S4xyCoeLw3WgVo7/0ylxiHKnOrp08QgWJSUWetdKvWI0MmTosxtRUlZrDAh7QxP5/aotyrV1Iu1QZ4fK4COOd9+S9R9WzazPLJx+yFKouforSLx9jztp8R7M6d8xG3inqJc0jydDxjVkx+E6803AH8QtkefgOfDVRTP0lF5+50I7NgFyWShwS0fFbePhf+LL2G+bgB5+OtwLXoF9ukzoc++Bo7n/gTr+HEUQA3Qp0a2YXVafDw59m445r0A57z58CxbBhctMlwvL4Ltod+j5vm/oGbaNNTMnC3O5Zh79CEvl0WZD47uJe/QPFkHA/Umx+JXaDYejfBEvUBLUJ3P8T0ffEBjRiYkg5EG8OliS0FKSEX1FBqACcvNt6A7eW1HWxW68ZySrHiQ+Oj96Ezl9ocPoRflOuopHM+GjbDcOUqUOZckeuCrzUgcMQwJtwyBf+tWpD72iBgovavXIG32TMh7foC+VRYo/sJy662wDB+G4Pe7aH47GPq2rZE2axYNwk602bpFPIhwKQ3ANFhz+LrBt+FzJI6lbkorR8lIElII0NEAmzr1SRj79kbKlN/AQuHC1L+vaMOx3pdLsw4OnWtKgePP86HQXF+h+bxz1p8gmbW9dboWo6TSZEH10MDMbfQsdIZkOP+6QJyv1NjhnL+QFlJWsUeuN6agQNLD8/77dJ8K9BlZUByOyEOi5urhAlq7lNGMqhu/Gtnfx3H6DP7wEwYNEjZOTO69nMhqDeYOiAfFFzThkFvYDeY08t5T+zH8nWY44BBlI80wSElR5ivNsOoVZUNCuhA8ClNUWhDW0GRSPCMhNk96a5ZYJPF2tT9S4smSgSAtpmrjORGTojsXL0bNE09Qr4huYNUJKWdwtmPnasPhx6PUPa++nW8r6GkFfM0hWn5pxOybo6v91ihKmL89+nQ9Ekedent0qt/EGJlTn4LqbXgvqKngi0gdrdTrCs6JWU/nUbyaD7wUUyVd3S7fVET20dsfOAhjTg/NFiFmPZ3/xqrtrh/EjmD9ONs0qF47rKPGnCE4J2Y9PUrVI7+Dm9YRhiaM73wfXUnUo6MrMjM6nZgXnVOa0x/ywb3QJ539B0CXCyaHaYrqRKdzyBoXonNKu/aBfPTAFRX+QgTnxGxMP53sIz/C1LUXFIq1VwL+CvBCBOfEjeic7MNXRviI4K4LEpwTV6JzhPDdepPw9d+tNpaLFZwTd6Jzsg/tg6l7n0sWvjGCc+JSdE52Hhe+b6OFZ8HGCc6JW9E52Xl7YOp58cILwcONE5wT16Jzsn8i4XP6XbDwXHC94m204Jy4F52TfWA3Cd//vMKLbVrVhyNb/4cZc+dq1osnbhZHF0JZn+sQ3L+LFlBZVKsvCwvICCvuS/LwKM2in0b5TYPh2/5fGKRE8Z/T/Lc+atgDpjOgo1Ln94yXQHN4OY0227agzX82wTx8MCRrEgw5XZCx6OXLJjin2dOvAs2efhWIG0+v+zWjZZ5Hk0qxO1rmP88Qr6W1ukR1Ds+jSaeL+Gu0zuG2uuefjbgQPSooz/n/P/E8FArVS8FAAIFgEAHKRZkSt+sNBpjMZlhMJpgtFiQkJMBMdRPVjUZjbdLr9UJ0A53P4fWzEVeezj0w+gA4vBzNow8leuwMWbh31/HoqLdHPb2ul/N0LpoH0iYH+D/095ERd3XkmAAAAABJRU5ErkJggg==\" align=\"right\" /><br>\n",
        "\n",
        "\n",
        "**INTRODUCTION TO ARTIFICIAL INTELLIGENCE**<br>\n",
        "**SEARCH ALGORITHMS**<br>\n",
        "Stefaan Haspeslagh & Andy Louwyck\n",
        "\n",
        "---\n",
        "\n",
        "\n",
        "\n",
        "---\n",
        "\n"
      ]
    },
    {
      "cell_type": "markdown",
      "metadata": {
        "id": "G9iKCSfT0hsW"
      },
      "source": [
        "#**SEARCH EXERCISER: OPTIMAL SEARCH**"
      ]
    },
    {
      "cell_type": "markdown",
      "source": [
        "This notebook explains how to use `SearchExerciser` to apply optimal search algorithms. "
      ],
      "metadata": {
        "id": "vzEW40igLHsI"
      }
    },
    {
      "cell_type": "markdown",
      "source": [
        "##Cloning the GitHub repo"
      ],
      "metadata": {
        "id": "fu4sZeDJLMLb"
      }
    },
    {
      "cell_type": "markdown",
      "source": [
        "The `SearchExerciser` package is cloned from Github repository https://github.com/alouwyck/SearchExerciser:"
      ],
      "metadata": {
        "id": "DJz1YnKe_151"
      }
    },
    {
      "cell_type": "code",
      "source": [
        "import os, shutil\n",
        "\n",
        "# remove directory 'SearchExerciser' if it already exists\n",
        "path = \"SearchExerciser\"\n",
        "if os.path.exists(path):\n",
        "    shutil.rmtree(path)\n",
        "\n",
        "# clone SearchExerciser repository\n",
        "!git clone https://github.com/alouwyck/SearchExerciser\n",
        "\n",
        "# move SearchExerciser package directory to current working directory\n",
        "os.rename(path, 'temp')\n",
        "shutil.copytree(os.path.join('temp', path), path);\n",
        "shutil.rmtree('temp')"
      ],
      "metadata": {
        "colab": {
          "base_uri": "https://localhost:8080/"
        },
        "id": "atiy_-Rnwf0q",
        "outputId": "2923a12c-d152-4dd1-fc97-d72028265a28"
      },
      "execution_count": 1,
      "outputs": [
        {
          "output_type": "stream",
          "name": "stdout",
          "text": [
            "Cloning into 'SearchExerciser'...\n",
            "remote: Enumerating objects: 248, done.\u001b[K\n",
            "remote: Total 248 (delta 0), reused 0 (delta 0), pack-reused 248\u001b[K\n",
            "Receiving objects: 100% (248/248), 259.91 KiB | 11.81 MiB/s, done.\n",
            "Resolving deltas: 100% (148/148), done.\n"
          ]
        }
      ]
    },
    {
      "cell_type": "markdown",
      "source": [
        "## Importing the search algorithms"
      ],
      "metadata": {
        "id": "mo2EqnuWu3Vb"
      }
    },
    {
      "cell_type": "markdown",
      "source": [
        "The following optimal search algorithms are avaible with `SearchExerciser`:\n",
        "\n",
        "- Uniform cost (UC)\n",
        "- Optimal uniform cost (OUC)\n",
        "- Branch-and-bound extended uniform cost (BBUC)\n",
        "- Estimate extended uniform cost (EEUC)\n",
        "- A*\n",
        "\n",
        "The algorithms are implemented in module `search.optimal`:"
      ],
      "metadata": {
        "id": "a7tFFL5Ju7o9"
      }
    },
    {
      "cell_type": "code",
      "source": [
        "from SearchExerciser.search.optimal import UC, OUC, BBUC, EEUC, AS"
      ],
      "metadata": {
        "id": "0EeFJ5ZhvXjW"
      },
      "execution_count": 3,
      "outputs": []
    },
    {
      "cell_type": "markdown",
      "source": [
        "`UC`, `OUC`, `BBUC`, `EEUC`, and `AS` are classes."
      ],
      "metadata": {
        "id": "OTkfon5k_x9l"
      }
    },
    {
      "cell_type": "markdown",
      "source": [
        "##Solving a maze problem"
      ],
      "metadata": {
        "id": "-IErWUOvL8HJ"
      }
    },
    {
      "cell_type": "markdown",
      "source": [
        "###Creating the maze"
      ],
      "metadata": {
        "id": "b8Pw3sQ_QFbl"
      }
    },
    {
      "cell_type": "markdown",
      "source": [
        "Recall that we need to import class `Maze` from module `maze` to create a maze:"
      ],
      "metadata": {
        "id": "zxZgkc7gMNM-"
      }
    },
    {
      "cell_type": "code",
      "source": [
        "from SearchExerciser.maze import Maze"
      ],
      "metadata": {
        "id": "Apq12n-tLqKm"
      },
      "execution_count": 4,
      "outputs": []
    },
    {
      "cell_type": "markdown",
      "source": [
        "The maze grid is defined by passing a list of strings to static method `Maze.create`. The following characters are used to indicate different grid cells:\n",
        "- start: `'*'`\n",
        "- goal: `'o'`\n",
        "- wall: `'#'`\n",
        "- free: `'.'`"
      ],
      "metadata": {
        "id": "0G0Q_xmsMga2"
      }
    },
    {
      "cell_type": "code",
      "source": [
        "maze = Maze.create(['o....',\n",
        "                    '.###.',\n",
        "                    '.#*#.',\n",
        "                    '.#...',\n",
        "                    '.....'])\n",
        "maze.plot()"
      ],
      "metadata": {
        "colab": {
          "base_uri": "https://localhost:8080/",
          "height": 254
        },
        "id": "M2QoTevgMZ6e",
        "outputId": "1d546bbd-4f72-4e78-f995-53243fd345d8"
      },
      "execution_count": 5,
      "outputs": [
        {
          "output_type": "display_data",
          "data": {
            "text/plain": [
              "<Figure size 288x288 with 1 Axes>"
            ],
            "image/png": "[encoded data removed]"
          },
          "metadata": {
            "needs_background": "light"
          }
        }
      ]
    },
    {
      "cell_type": "markdown",
      "source": [
        "Optimal search algorithms try to find the **optimal path**, which is the path with the lowest **accumulated cost**. The latter is the total cost of all moves that are required to travel the path. In case of a maze problem, the cost of each move is equal to 1."
      ],
      "metadata": {
        "id": "XkT93UK_tsXa"
      }
    },
    {
      "cell_type": "markdown",
      "source": [
        "### Uniform cost"
      ],
      "metadata": {
        "id": "3haoFYlmvhtJ"
      }
    },
    {
      "cell_type": "markdown",
      "source": [
        "The uniform cost is similar to greedy search. The only difference is it always selects the path with the lowest accumulated cost instead of heuristic value:"
      ],
      "metadata": {
        "id": "2aPDKadx451F"
      }
    },
    {
      "cell_type": "code",
      "source": [
        "maze.search(UC).plot()"
      ],
      "metadata": {
        "colab": {
          "base_uri": "https://localhost:8080/",
          "height": 358
        },
        "id": "6zKvzt2lv3L_",
        "outputId": "2bec92e1-e7c1-4e31-bf50-ef57043078f4"
      },
      "execution_count": 7,
      "outputs": [
        {
          "output_type": "stream",
          "name": "stdout",
          "text": [
            "ALGORITHM: Uniform cost\n",
            "RESULT: SUCCES\n",
            "Elapsed time: 0.004181861877441406 seconds\n",
            "Number of iterations: 32\n",
            "Maximum length of queue: 9\n",
            "Accumulated cost of path to goal: 8.0\n"
          ]
        },
        {
          "output_type": "display_data",
          "data": {
            "text/plain": [
              "<Figure size 288x288 with 1 Axes>"
            ],
            "image/png": "[encoded data removed]"
          },
          "metadata": {
            "needs_background": "light"
          }
        }
      ]
    },
    {
      "cell_type": "markdown",
      "source": [
        "This greedy approach doesn't garantee to find the optimal path, but in this example it finds the optimal path, which is also the shortest path as each move has a cost of 1."
      ],
      "metadata": {
        "id": "CywPlWysEJkV"
      }
    },
    {
      "cell_type": "markdown",
      "source": [
        "###Optimal uniform cost"
      ],
      "metadata": {
        "id": "LeJUdggEEket"
      }
    },
    {
      "cell_type": "markdown",
      "source": [
        "The optimal uniform cost algorithm extends uniform cost with a weak integration of the branch-and-bound technique: it doesn't stop when a path to the goal is in the queue, but it stops when a path to the goal is the first element in the queue. As the queue is sorted by accumulated cost, this new stopping criterion garantees the optimal path will always be found.\n",
        "\n",
        "Let's try this out:"
      ],
      "metadata": {
        "id": "233sSxLME6qN"
      }
    },
    {
      "cell_type": "code",
      "source": [
        "maze.search(OUC).plot()"
      ],
      "metadata": {
        "colab": {
          "base_uri": "https://localhost:8080/",
          "height": 358
        },
        "id": "y4-cS1SOGqDn",
        "outputId": "20cc2043-2371-4ead-9344-a11f5a5b6693"
      },
      "execution_count": 8,
      "outputs": [
        {
          "output_type": "stream",
          "name": "stdout",
          "text": [
            "ALGORITHM: Optimal uniform cost\n",
            "RESULT: SUCCES\n",
            "Elapsed time: 0.010360240936279297 seconds\n",
            "Number of iterations: 44\n",
            "Maximum length of queue: 9\n",
            "Accumulated cost of path to goal: 8.0\n"
          ]
        },
        {
          "output_type": "display_data",
          "data": {
            "text/plain": [
              "<Figure size 288x288 with 1 Axes>"
            ],
            "image/png": "[encoded data removed]"
          },
          "metadata": {
            "needs_background": "light"
          }
        }
      ]
    },
    {
      "cell_type": "markdown",
      "source": [
        "### Branch-and-bound extended uniform cost"
      ],
      "metadata": {
        "id": "3ilU7Ys3G1-a"
      }
    },
    {
      "cell_type": "markdown",
      "source": [
        "The branch-and-bound technique can also be fully integrated in the optimal uniform cost algorithm. This results into the branch-and-bound extended uniform cost algorithm:"
      ],
      "metadata": {
        "id": "rxdBTcnxIF__"
      }
    },
    {
      "cell_type": "code",
      "source": [
        "maze.search(BBUC).plot()"
      ],
      "metadata": {
        "colab": {
          "base_uri": "https://localhost:8080/",
          "height": 358
        },
        "id": "lsUK4rM6IUQr",
        "outputId": "bfaf123b-0997-417b-ce8f-b58a962e8856"
      },
      "execution_count": 9,
      "outputs": [
        {
          "output_type": "stream",
          "name": "stdout",
          "text": [
            "ALGORITHM: Branch-and-bound extended uniform cost\n",
            "RESULT: SUCCES\n",
            "Elapsed time: 0.010529279708862305 seconds\n",
            "Number of iterations: 44\n",
            "Maximum length of queue: 9\n",
            "Accumulated cost of path to goal: 8.0\n"
          ]
        },
        {
          "output_type": "display_data",
          "data": {
            "text/plain": [
              "<Figure size 288x288 with 1 Axes>"
            ],
            "image/png": "[encoded data removed]"
          },
          "metadata": {
            "needs_background": "light"
          }
        }
      ]
    },
    {
      "cell_type": "markdown",
      "source": [
        "In this small example, however, applying branch-and-bound doesn't reduce the computational cost significantly."
      ],
      "metadata": {
        "id": "487C4bV3Itgy"
      }
    },
    {
      "cell_type": "markdown",
      "source": [
        "### Estimate extended uniform cost"
      ],
      "metadata": {
        "id": "l3uxqHCHJIi_"
      }
    },
    {
      "cell_type": "markdown",
      "source": [
        "Instead of branch-and-bound, it is more efficient to use a heuristic function. That is exactly what the estimate extended uniform cost algorithm does! It is the same algorithm as optimal uniform cost, but it sorts the entire queue by **f-value**, which is the sum of the accumulated cost and the heuristic value. Recall that the heuristic value of a path in a maze is the manhattan distance to the goal.\n",
        "\n",
        "Let's check this out:"
      ],
      "metadata": {
        "id": "xM8iMsaYJiEN"
      }
    },
    {
      "cell_type": "code",
      "source": [
        "maze.search(EEUC).plot()"
      ],
      "metadata": {
        "colab": {
          "base_uri": "https://localhost:8080/",
          "height": 358
        },
        "id": "6l5hjzriKpMn",
        "outputId": "80a72c2d-00bc-4dc2-c71a-0058f3ff646a"
      },
      "execution_count": 10,
      "outputs": [
        {
          "output_type": "stream",
          "name": "stdout",
          "text": [
            "ALGORITHM: Estimate extended uniform cost\n",
            "RESULT: SUCCES\n",
            "Elapsed time: 0.0036339759826660156 seconds\n",
            "Number of iterations: 9\n",
            "Maximum length of queue: 4\n",
            "Accumulated cost of path to goal: 8.0\n"
          ]
        },
        {
          "output_type": "display_data",
          "data": {
            "text/plain": [
              "<Figure size 288x288 with 1 Axes>"
            ],
            "image/png": "[encoded data removed]"
          },
          "metadata": {
            "needs_background": "light"
          }
        }
      ]
    },
    {
      "cell_type": "markdown",
      "source": [
        "Indeed, the number of iterations is reduced to 9 and the maximum number of paths in the queue is 4!"
      ],
      "metadata": {
        "id": "7-nFlc7qK4LU"
      }
    },
    {
      "cell_type": "markdown",
      "source": [
        "###A*"
      ],
      "metadata": {
        "id": "GzrqPsYVLSYP"
      }
    },
    {
      "cell_type": "markdown",
      "source": [
        "Finally, the A\\*-algorithm extends the estimate extended uniform cost algorithm by a technique called **redundant path deletion**. A redundant path has a accumulated cost which is larger than the cost of a path in the queue which contains the last node of the redundant path."
      ],
      "metadata": {
        "id": "uIgW0tyLLVfI"
      }
    },
    {
      "cell_type": "code",
      "source": [
        "maze.search(AS, print_queue=True).plot()"
      ],
      "metadata": {
        "colab": {
          "base_uri": "https://localhost:8080/",
          "height": 1000
        },
        "id": "RWpoX4SHMshM",
        "outputId": "2ddafa3b-5737-48ff-d1a7-32849b65d4b3"
      },
      "execution_count": 12,
      "outputs": [
        {
          "output_type": "stream",
          "name": "stdout",
          "text": [
            "Initial queue:\n",
            "o....  \n",
            ".###.  \n",
            ".#x#.  \n",
            ".#...  \n",
            ".....  \n",
            "\n",
            "Iteration 1\n",
            "Path removed from queue:\n",
            "o....\n",
            ".###.\n",
            ".#x#.\n",
            ".#...\n",
            ".....\n",
            "New paths:\n",
            "o....  \n",
            ".###.  \n",
            ".#x#.  \n",
            ".#x..  \n",
            ".....  \n",
            "Paths in queue:\n",
            "o....  \n",
            ".###.  \n",
            ".#x#.  \n",
            ".#x..  \n",
            ".....  \n",
            "\n",
            "Iteration 2\n",
            "Path removed from queue:\n",
            "o....\n",
            ".###.\n",
            ".#x#.\n",
            ".#x..\n",
            ".....\n",
            "New paths:\n",
            "o....  o....  \n",
            ".###.  .###.  \n",
            ".#x#.  .#x#.  \n",
            ".#xx.  .#x..  \n",
            ".....  ..x..  \n",
            "Paths in queue:\n",
            "o....  o....  \n",
            ".###.  .###.  \n",
            ".#x#.  .#x#.  \n",
            ".#xx.  .#x..  \n",
            ".....  ..x..  \n",
            "\n",
            "Iteration 3\n",
            "Path removed from queue:\n",
            "o....\n",
            ".###.\n",
            ".#x#.\n",
            ".#xx.\n",
            ".....\n",
            "New paths:\n",
            "o....  o....  \n",
            ".###.  .###.  \n",
            ".#x#.  .#x#.  \n",
            ".#xxx  .#xx.  \n",
            ".....  ...x.  \n",
            "Paths in queue:\n",
            "o....  o....  o....  \n",
            ".###.  .###.  .###.  \n",
            ".#x#.  .#x#.  .#x#.  \n",
            ".#x..  .#xxx  .#xx.  \n",
            "..x..  .....  ...x.  \n",
            "\n",
            "Iteration 4\n",
            "Path removed from queue:\n",
            "o....\n",
            ".###.\n",
            ".#x#.\n",
            ".#x..\n",
            "..x..\n",
            "New paths:\n",
            "o....  o....  \n",
            ".###.  .###.  \n",
            ".#x#.  .#x#.  \n",
            ".#x..  .#x..  \n",
            ".xx..  ..xx.  \n",
            "Redundant paths:\n",
            "o....  o....  \n",
            ".###.  .###.  \n",
            ".#x#.  .#x#.  \n",
            ".#x..  .#xx.  \n",
            "..xx.  ...x.  \n",
            "Paths in queue:\n",
            "o....  o....  \n",
            ".###.  .###.  \n",
            ".#x#.  .#x#.  \n",
            ".#x..  .#xxx  \n",
            ".xx..  .....  \n",
            "\n",
            "Iteration 5\n",
            "Path removed from queue:\n",
            "o....\n",
            ".###.\n",
            ".#x#.\n",
            ".#x..\n",
            ".xx..\n",
            "New paths:\n",
            "o....  \n",
            ".###.  \n",
            ".#x#.  \n",
            ".#x..  \n",
            "xxx..  \n",
            "Paths in queue:\n",
            "o....  o....  \n",
            ".###.  .###.  \n",
            ".#x#.  .#x#.  \n",
            ".#x..  .#xxx  \n",
            "xxx..  .....  \n",
            "\n",
            "Iteration 6\n",
            "Path removed from queue:\n",
            "o....\n",
            ".###.\n",
            ".#x#.\n",
            ".#x..\n",
            "xxx..\n",
            "New paths:\n",
            "o....  \n",
            ".###.  \n",
            ".#x#.  \n",
            "x#x..  \n",
            "xxx..  \n",
            "Paths in queue:\n",
            "o....  o....  \n",
            ".###.  .###.  \n",
            ".#x#.  .#x#.  \n",
            "x#x..  .#xxx  \n",
            "xxx..  .....  \n",
            "\n",
            "Iteration 7\n",
            "Path removed from queue:\n",
            "o....\n",
            ".###.\n",
            ".#x#.\n",
            "x#x..\n",
            "xxx..\n",
            "New paths:\n",
            "o....  \n",
            ".###.  \n",
            "x#x#.  \n",
            "x#x..  \n",
            "xxx..  \n",
            "Paths in queue:\n",
            "o....  o....  \n",
            ".###.  .###.  \n",
            "x#x#.  .#x#.  \n",
            "x#x..  .#xxx  \n",
            "xxx..  .....  \n",
            "\n",
            "Iteration 8\n",
            "Path removed from queue:\n",
            "o....\n",
            ".###.\n",
            "x#x#.\n",
            "x#x..\n",
            "xxx..\n",
            "New paths:\n",
            "o....  \n",
            "x###.  \n",
            "x#x#.  \n",
            "x#x..  \n",
            "xxx..  \n",
            "Paths in queue:\n",
            "o....  o....  \n",
            "x###.  .###.  \n",
            "x#x#.  .#x#.  \n",
            "x#x..  .#xxx  \n",
            "xxx..  .....  \n",
            "\n",
            "Iteration 9\n",
            "Path removed from queue:\n",
            "o....\n",
            "x###.\n",
            "x#x#.\n",
            "x#x..\n",
            "xxx..\n",
            "New paths:\n",
            "x....  \n",
            "x###.  \n",
            "x#x#.  \n",
            "x#x..  \n",
            "xxx..  \n",
            "Paths in queue:\n",
            "x....  o....  \n",
            "x###.  .###.  \n",
            "x#x#.  .#x#.  \n",
            "x#x..  .#xxx  \n",
            "xxx..  .....  \n",
            "\n",
            "Path to goal found in new paths:\n",
            "x....\n",
            "x###.\n",
            "x#x#.\n",
            "x#x..\n",
            "xxx..\n",
            "\n",
            "ALGORITHM: A*\n",
            "RESULT: SUCCES\n",
            "Elapsed time: 0.01880049705505371 seconds\n",
            "Number of iterations: 9\n",
            "Maximum length of queue: 3\n",
            "Accumulated cost of path to goal: 8.0\n"
          ]
        },
        {
          "output_type": "display_data",
          "data": {
            "text/plain": [
              "<Figure size 288x288 with 1 Axes>"
            ],
            "image/png": "[encoded data removed]"
          },
          "metadata": {
            "needs_background": "light"
          }
        }
      ]
    },
    {
      "cell_type": "markdown",
      "source": [
        "We see that even in this small maze example, redundant paths were removed in iteration 4. This also explains why the maximum length of the queue is 3, whereas it is 4 when EEUC is applied."
      ],
      "metadata": {
        "id": "e1MH0TsZMxw4"
      }
    },
    {
      "cell_type": "markdown",
      "source": [
        "## Solving a graph problem"
      ],
      "metadata": {
        "id": "I_3vdYzgRDAF"
      }
    },
    {
      "cell_type": "markdown",
      "source": [
        "###Creating the graph"
      ],
      "metadata": {
        "id": "OtuZRVdGay5b"
      }
    },
    {
      "cell_type": "markdown",
      "source": [
        "Recall that we need to import class `Graph` from module `graph` to create a graph:"
      ],
      "metadata": {
        "id": "MUv80YqmXhYs"
      }
    },
    {
      "cell_type": "code",
      "source": [
        "from SearchExerciser.graph import Graph"
      ],
      "metadata": {
        "id": "Rptl-xOrM7Ql"
      },
      "execution_count": 13,
      "outputs": []
    },
    {
      "cell_type": "markdown",
      "source": [
        "Optimal search algorithms take into account costs. The cost is an edge attribute and is added as third element to the edge tuples or lists. Some of the algorithms also use heuristic values. Recall that these values are node attributes that we pass as dictionary:"
      ],
      "metadata": {
        "id": "ViKxNKnUXiFm"
      }
    },
    {
      "cell_type": "code",
      "source": [
        "graph = Graph.create(edges=[(\"S\", \"A\", 3), (\"S\", \"D\", 4), (\"A\", \"D\", 5), (\"A\", \"B\", 4), (\"D\", \"E\", 2), \n",
        "                            (\"B\", \"E\", 5), (\"B\", \"C\", 4), (\"E\", \"F\", 4), (\"F\", \"G\", 3)], \n",
        "                     heuristic={\"S\":11, \"A\":10.4, \"B\":6.7, \"C\":4, \"D\":8.9, \"E\":6.9, \"F\":3, \"G\":0})"
      ],
      "metadata": {
        "id": "ghqrVB4MXdA7"
      },
      "execution_count": 16,
      "outputs": []
    },
    {
      "cell_type": "markdown",
      "source": [
        "We define the node coordinates and visualize the graph calling method `plot`:"
      ],
      "metadata": {
        "id": "BJPh4ASaYCoI"
      }
    },
    {
      "cell_type": "code",
      "source": [
        "coordinates = dict(S=[0, 0.5], \n",
        "                   A=[1, 1],\n",
        "                   D=[2, 0],\n",
        "                   E=[3.5, 0],\n",
        "                   B=[4.5, 1],\n",
        "                   F=[7, 0],\n",
        "                   C=[8, 1],\n",
        "                   G=[9, 0.5])\n",
        "graph.plot(coordinates)"
      ],
      "metadata": {
        "colab": {
          "base_uri": "https://localhost:8080/",
          "height": 319
        },
        "id": "k-othmLKTB3X",
        "outputId": "b3b34689-c628-4628-fa71-9dc769be0b71"
      },
      "execution_count": 17,
      "outputs": [
        {
          "output_type": "display_data",
          "data": {
            "text/plain": [
              "<Figure size 432x288 with 1 Axes>"
            ],
            "image/png": "[encoded data removed]"
          },
          "metadata": {}
        }
      ]
    },
    {
      "cell_type": "markdown",
      "source": [
        "The cost of each edge is added indeed to the plot of the graph, as is the the heuristic value of each node. In this example, the costs may be interpreted as real distances between nodes, whereas the heuristic values may be interpreted as estimates of the distance based on bird's eye view (or as the crow flies). Note that the accumulated cost of a path is the sum of the costs of the edges the path consists of. "
      ],
      "metadata": {
        "id": "dExM_pty9G9D"
      }
    },
    {
      "cell_type": "markdown",
      "source": [
        "### Uniform cost"
      ],
      "metadata": {
        "id": "Wn42I7uu-HX7"
      }
    },
    {
      "cell_type": "markdown",
      "source": [
        "Let's start by applying the uniform cost algorithm that only takes into account the accumulated costs of the paths:"
      ],
      "metadata": {
        "id": "MvYxmyOjQ4og"
      }
    },
    {
      "cell_type": "code",
      "source": [
        "graph.search(UC, print_queue=True);"
      ],
      "metadata": {
        "colab": {
          "base_uri": "https://localhost:8080/"
        },
        "id": "7nqP8WWNRH2I",
        "outputId": "a999ee85-c524-49f8-9e23-b13d89220f02"
      },
      "execution_count": 19,
      "outputs": [
        {
          "output_type": "stream",
          "name": "stdout",
          "text": [
            "Initial queue:\n",
            "[S(0.0)]\n",
            "\n",
            "Iteration 1\n",
            "Path removed from queue:\n",
            "S(0.0)\n",
            "New paths:\n",
            "[SA(3.0),SD(4.0)]\n",
            "Paths in queue:\n",
            "[SA(3.0),SD(4.0)]\n",
            "\n",
            "Iteration 2\n",
            "Path removed from queue:\n",
            "SA(3.0)\n",
            "New paths:\n",
            "[SAB(7.0),SAD(8.0)]\n",
            "Paths in queue:\n",
            "[SD(4.0),SAB(7.0),SAD(8.0)]\n",
            "\n",
            "Iteration 3\n",
            "Path removed from queue:\n",
            "SD(4.0)\n",
            "New paths:\n",
            "[SDA(9.0),SDE(6.0)]\n",
            "Paths in queue:\n",
            "[SDE(6.0),SAB(7.0),SAD(8.0),SDA(9.0)]\n",
            "\n",
            "Iteration 4\n",
            "Path removed from queue:\n",
            "SDE(6.0)\n",
            "New paths:\n",
            "[SDEB(11.0),SDEF(10.0)]\n",
            "Paths in queue:\n",
            "[SAB(7.0),SAD(8.0),SDA(9.0),SDEF(10.0),SDEB(11.0)]\n",
            "\n",
            "Iteration 5\n",
            "Path removed from queue:\n",
            "SAB(7.0)\n",
            "New paths:\n",
            "[SABC(11.0),SABE(12.0)]\n",
            "Paths in queue:\n",
            "[SAD(8.0),SDA(9.0),SDEF(10.0),SABC(11.0),SDEB(11.0),SABE(12.0)]\n",
            "\n",
            "Iteration 6\n",
            "Path removed from queue:\n",
            "SAD(8.0)\n",
            "New paths:\n",
            "[SADE(10.0)]\n",
            "Paths in queue:\n",
            "[SDA(9.0),SADE(10.0),SDEF(10.0),SABC(11.0),SDEB(11.0),SABE(12.0)]\n",
            "\n",
            "Iteration 7\n",
            "Path removed from queue:\n",
            "SDA(9.0)\n",
            "New paths:\n",
            "[SDAB(13.0)]\n",
            "Paths in queue:\n",
            "[SADE(10.0),SDEF(10.0),SABC(11.0),SDEB(11.0),SABE(12.0),SDAB(13.0)]\n",
            "\n",
            "Iteration 8\n",
            "Path removed from queue:\n",
            "SADE(10.0)\n",
            "New paths:\n",
            "[SADEB(15.0),SADEF(14.0)]\n",
            "Paths in queue:\n",
            "[SDEF(10.0),SABC(11.0),SDEB(11.0),SABE(12.0),SDAB(13.0),SADEF(14.0),SADEB(15.0)]\n",
            "\n",
            "Iteration 9\n",
            "Path removed from queue:\n",
            "SDEF(10.0)\n",
            "New paths:\n",
            "[SDEFG(13.0)]\n",
            "Paths in queue:\n",
            "[SABC(11.0),SDEB(11.0),SABE(12.0),SDEFG(13.0),SDAB(13.0),SADEF(14.0),SADEB(15.0)]\n",
            "\n",
            "Path to goal found in new paths:\n",
            "SDEFG(13.0)\n",
            "\n",
            "ALGORITHM: Uniform cost\n",
            "RESULT: SUCCES\n",
            "Elapsed time: 0.015503644943237305 seconds\n",
            "Number of iterations: 9\n",
            "Maximum length of queue: 7\n",
            "Accumulated cost of path to goal: 13.0\n"
          ]
        }
      ]
    },
    {
      "cell_type": "markdown",
      "source": [
        "It finds the optimal path in this case. Note that the accumulated cost of each path is also printed."
      ],
      "metadata": {
        "id": "Vftd44b1Rcnr"
      }
    },
    {
      "cell_type": "markdown",
      "source": [
        "### Optimal uniform cost"
      ],
      "metadata": {
        "id": "J_P1Q2GVRjV1"
      }
    },
    {
      "cell_type": "markdown",
      "source": [
        "Optimal uniform cost also finds the optimal path:"
      ],
      "metadata": {
        "id": "73SCqAzSRsyq"
      }
    },
    {
      "cell_type": "code",
      "source": [
        "graph.search(OUC, print_queue=True);"
      ],
      "metadata": {
        "colab": {
          "base_uri": "https://localhost:8080/"
        },
        "id": "Q_Z0uPn-Riy_",
        "outputId": "c8fce0b5-9036-438f-c8c0-0659e78c43ca"
      },
      "execution_count": 20,
      "outputs": [
        {
          "output_type": "stream",
          "name": "stdout",
          "text": [
            "Initial queue:\n",
            "[S(0.0)]\n",
            "\n",
            "Iteration 1\n",
            "Path removed from queue:\n",
            "S(0.0)\n",
            "New paths:\n",
            "[SA(3.0),SD(4.0)]\n",
            "Paths in queue:\n",
            "[SA(3.0),SD(4.0)]\n",
            "\n",
            "Iteration 2\n",
            "Path removed from queue:\n",
            "SA(3.0)\n",
            "New paths:\n",
            "[SAB(7.0),SAD(8.0)]\n",
            "Paths in queue:\n",
            "[SD(4.0),SAB(7.0),SAD(8.0)]\n",
            "\n",
            "Iteration 3\n",
            "Path removed from queue:\n",
            "SD(4.0)\n",
            "New paths:\n",
            "[SDA(9.0),SDE(6.0)]\n",
            "Paths in queue:\n",
            "[SDE(6.0),SAB(7.0),SAD(8.0),SDA(9.0)]\n",
            "\n",
            "Iteration 4\n",
            "Path removed from queue:\n",
            "SDE(6.0)\n",
            "New paths:\n",
            "[SDEB(11.0),SDEF(10.0)]\n",
            "Paths in queue:\n",
            "[SAB(7.0),SAD(8.0),SDA(9.0),SDEF(10.0),SDEB(11.0)]\n",
            "\n",
            "Iteration 5\n",
            "Path removed from queue:\n",
            "SAB(7.0)\n",
            "New paths:\n",
            "[SABC(11.0),SABE(12.0)]\n",
            "Paths in queue:\n",
            "[SAD(8.0),SDA(9.0),SDEF(10.0),SABC(11.0),SDEB(11.0),SABE(12.0)]\n",
            "\n",
            "Iteration 6\n",
            "Path removed from queue:\n",
            "SAD(8.0)\n",
            "New paths:\n",
            "[SADE(10.0)]\n",
            "Paths in queue:\n",
            "[SDA(9.0),SADE(10.0),SDEF(10.0),SABC(11.0),SDEB(11.0),SABE(12.0)]\n",
            "\n",
            "Iteration 7\n",
            "Path removed from queue:\n",
            "SDA(9.0)\n",
            "New paths:\n",
            "[SDAB(13.0)]\n",
            "Paths in queue:\n",
            "[SADE(10.0),SDEF(10.0),SABC(11.0),SDEB(11.0),SABE(12.0),SDAB(13.0)]\n",
            "\n",
            "Iteration 8\n",
            "Path removed from queue:\n",
            "SADE(10.0)\n",
            "New paths:\n",
            "[SADEB(15.0),SADEF(14.0)]\n",
            "Paths in queue:\n",
            "[SDEF(10.0),SABC(11.0),SDEB(11.0),SABE(12.0),SDAB(13.0),SADEF(14.0),SADEB(15.0)]\n",
            "\n",
            "Iteration 9\n",
            "Path removed from queue:\n",
            "SDEF(10.0)\n",
            "New paths:\n",
            "[SDEFG(13.0)]\n",
            "Paths in queue:\n",
            "[SABC(11.0),SDEB(11.0),SABE(12.0),SDEFG(13.0),SDAB(13.0),SADEF(14.0),SADEB(15.0)]\n",
            "\n",
            "Iteration 10\n",
            "Path removed from queue:\n",
            "SABC(11.0)\n",
            "New paths:\n",
            "[]\n",
            "Paths in queue:\n",
            "[SDEB(11.0),SABE(12.0),SDEFG(13.0),SDAB(13.0),SADEF(14.0),SADEB(15.0)]\n",
            "\n",
            "Iteration 11\n",
            "Path removed from queue:\n",
            "SDEB(11.0)\n",
            "New paths:\n",
            "[SDEBA(15.0),SDEBC(15.0)]\n",
            "Paths in queue:\n",
            "[SABE(12.0),SDEFG(13.0),SDAB(13.0),SADEF(14.0),SDEBA(15.0),SDEBC(15.0),SADEB(15.0)]\n",
            "\n",
            "Iteration 12\n",
            "Path removed from queue:\n",
            "SABE(12.0)\n",
            "New paths:\n",
            "[SABED(14.0),SABEF(16.0)]\n",
            "Paths in queue:\n",
            "[SDEFG(13.0),SDAB(13.0),SABED(14.0),SADEF(14.0),SDEBA(15.0),SDEBC(15.0),SADEB(15.0),SABEF(16.0)]\n",
            "\n",
            "Path to goal found in new paths:\n",
            "SDEFG(13.0)\n",
            "\n",
            "ALGORITHM: Optimal uniform cost\n",
            "RESULT: SUCCES\n",
            "Elapsed time: 0.011006355285644531 seconds\n",
            "Number of iterations: 12\n",
            "Maximum length of queue: 7\n",
            "Accumulated cost of path to goal: 13.0\n"
          ]
        }
      ]
    },
    {
      "cell_type": "markdown",
      "source": [
        "Note that optimal uniform cost has performed 12 iterations, whereas uniform cost only needs 9 iterations to find the optimal path. This is because optimal uniform cost continues until the optimal path is the first element in the queue!"
      ],
      "metadata": {
        "id": "TB96YmZCSSl0"
      }
    },
    {
      "cell_type": "markdown",
      "source": [
        "###Branch-and-bound extended uniform cost"
      ],
      "metadata": {
        "id": "yrfcRYkRSo1R"
      }
    },
    {
      "cell_type": "markdown",
      "source": [
        "The full branch-and-bound extension did not reduce the computational cost to solve the maze problem. Let's see if it has added value to solve the graph problem:"
      ],
      "metadata": {
        "id": "62uGOHaUS1bD"
      }
    },
    {
      "cell_type": "code",
      "source": [
        "graph.search(BBUC, print_queue=True);"
      ],
      "metadata": {
        "colab": {
          "base_uri": "https://localhost:8080/"
        },
        "id": "XyjUAbSHSBYe",
        "outputId": "675a70aa-d3fb-4234-dabe-e3166bbbb117"
      },
      "execution_count": 21,
      "outputs": [
        {
          "output_type": "stream",
          "name": "stdout",
          "text": [
            "Initial queue:\n",
            "[S(0.0)]\n",
            "\n",
            "Iteration 1\n",
            "Path removed from queue:\n",
            "S(0.0)\n",
            "New paths:\n",
            "[SA(3.0),SD(4.0)]\n",
            "Paths in queue:\n",
            "[SA(3.0),SD(4.0)]\n",
            "\n",
            "Iteration 2\n",
            "Path removed from queue:\n",
            "SA(3.0)\n",
            "New paths:\n",
            "[SAB(7.0),SAD(8.0)]\n",
            "Paths in queue:\n",
            "[SD(4.0),SAB(7.0),SAD(8.0)]\n",
            "\n",
            "Iteration 3\n",
            "Path removed from queue:\n",
            "SD(4.0)\n",
            "New paths:\n",
            "[SDA(9.0),SDE(6.0)]\n",
            "Paths in queue:\n",
            "[SDE(6.0),SAB(7.0),SAD(8.0),SDA(9.0)]\n",
            "\n",
            "Iteration 4\n",
            "Path removed from queue:\n",
            "SDE(6.0)\n",
            "New paths:\n",
            "[SDEB(11.0),SDEF(10.0)]\n",
            "Paths in queue:\n",
            "[SAB(7.0),SAD(8.0),SDA(9.0),SDEF(10.0),SDEB(11.0)]\n",
            "\n",
            "Iteration 5\n",
            "Path removed from queue:\n",
            "SAB(7.0)\n",
            "New paths:\n",
            "[SABC(11.0),SABE(12.0)]\n",
            "Paths in queue:\n",
            "[SAD(8.0),SDA(9.0),SDEF(10.0),SABC(11.0),SDEB(11.0),SABE(12.0)]\n",
            "\n",
            "Iteration 6\n",
            "Path removed from queue:\n",
            "SAD(8.0)\n",
            "New paths:\n",
            "[SADE(10.0)]\n",
            "Paths in queue:\n",
            "[SDA(9.0),SADE(10.0),SDEF(10.0),SABC(11.0),SDEB(11.0),SABE(12.0)]\n",
            "\n",
            "Iteration 7\n",
            "Path removed from queue:\n",
            "SDA(9.0)\n",
            "New paths:\n",
            "[SDAB(13.0)]\n",
            "Paths in queue:\n",
            "[SADE(10.0),SDEF(10.0),SABC(11.0),SDEB(11.0),SABE(12.0),SDAB(13.0)]\n",
            "\n",
            "Iteration 8\n",
            "Path removed from queue:\n",
            "SADE(10.0)\n",
            "New paths:\n",
            "[SADEB(15.0),SADEF(14.0)]\n",
            "Paths in queue:\n",
            "[SDEF(10.0),SABC(11.0),SDEB(11.0),SABE(12.0),SDAB(13.0),SADEF(14.0),SADEB(15.0)]\n",
            "\n",
            "Iteration 9\n",
            "Path removed from queue:\n",
            "SDEF(10.0)\n",
            "New paths:\n",
            "[SDEFG(13.0)]\n",
            "Pruned paths:\n",
            "[SADEF(14.0),SADEB(15.0)]\n",
            "Paths in queue:\n",
            "[SABC(11.0),SDEB(11.0),SABE(12.0),SDEFG(13.0),SDAB(13.0)]\n",
            "\n",
            "Iteration 10\n",
            "Path removed from queue:\n",
            "SABC(11.0)\n",
            "New paths:\n",
            "[]\n",
            "Paths in queue:\n",
            "[SDEB(11.0),SABE(12.0),SDEFG(13.0),SDAB(13.0)]\n",
            "\n",
            "Iteration 11\n",
            "Path removed from queue:\n",
            "SDEB(11.0)\n",
            "New paths:\n",
            "[SDEBA(15.0),SDEBC(15.0)]\n",
            "Pruned paths:\n",
            "[SDEBA(15.0),SDEBC(15.0)]\n",
            "Paths in queue:\n",
            "[SABE(12.0),SDEFG(13.0),SDAB(13.0)]\n",
            "\n",
            "Iteration 12\n",
            "Path removed from queue:\n",
            "SABE(12.0)\n",
            "New paths:\n",
            "[SABED(14.0),SABEF(16.0)]\n",
            "Pruned paths:\n",
            "[SABED(14.0),SABEF(16.0)]\n",
            "Paths in queue:\n",
            "[SDEFG(13.0),SDAB(13.0)]\n",
            "\n",
            "Path to goal found in new paths:\n",
            "SDEFG(13.0)\n",
            "\n",
            "ALGORITHM: Branch-and-bound extended uniform cost\n",
            "RESULT: SUCCES\n",
            "Elapsed time: 0.04414534568786621 seconds\n",
            "Number of iterations: 12\n",
            "Maximum length of queue: 7\n",
            "Accumulated cost of path to goal: 13.0\n"
          ]
        }
      ]
    },
    {
      "cell_type": "markdown",
      "source": [
        "Again, there is no significant reduction of the computational cost applying branch-and-bound, although it prunes paths in iterations 9, 11, and 12. So the branch-and-bound extension could be an advantage when solving larger problems."
      ],
      "metadata": {
        "id": "QsRnxJswTpuv"
      }
    },
    {
      "cell_type": "markdown",
      "source": [
        "###Estimate extended uniform cost"
      ],
      "metadata": {
        "id": "bDFvD3VSStPe"
      }
    },
    {
      "cell_type": "markdown",
      "source": [
        "Recall that the estimate extended uniform cost algorithm also uses the heuristic values:"
      ],
      "metadata": {
        "id": "RgYRMaViUcrZ"
      }
    },
    {
      "cell_type": "code",
      "source": [
        "graph.search(EEUC, print_queue=True);"
      ],
      "metadata": {
        "colab": {
          "base_uri": "https://localhost:8080/"
        },
        "id": "W7mIMfhNSvVq",
        "outputId": "c0094fa2-55f7-454c-9ac7-f1d68d5d4e37"
      },
      "execution_count": 22,
      "outputs": [
        {
          "output_type": "stream",
          "name": "stdout",
          "text": [
            "Initial queue:\n",
            "[S(11.0)]\n",
            "\n",
            "Iteration 1\n",
            "Path removed from queue:\n",
            "S(11.0)\n",
            "New paths:\n",
            "[SA(13.4),SD(12.9)]\n",
            "Paths in queue:\n",
            "[SD(12.9),SA(13.4)]\n",
            "\n",
            "Iteration 2\n",
            "Path removed from queue:\n",
            "SD(12.9)\n",
            "New paths:\n",
            "[SDA(19.4),SDE(12.9)]\n",
            "Paths in queue:\n",
            "[SDE(12.9),SA(13.4),SDA(19.4)]\n",
            "\n",
            "Iteration 3\n",
            "Path removed from queue:\n",
            "SDE(12.9)\n",
            "New paths:\n",
            "[SDEB(17.7),SDEF(13.0)]\n",
            "Paths in queue:\n",
            "[SDEF(13.0),SA(13.4),SDEB(17.7),SDA(19.4)]\n",
            "\n",
            "Iteration 4\n",
            "Path removed from queue:\n",
            "SDEF(13.0)\n",
            "New paths:\n",
            "[SDEFG(13.0)]\n",
            "Paths in queue:\n",
            "[SDEFG(13.0),SA(13.4),SDEB(17.7),SDA(19.4)]\n",
            "\n",
            "Path to goal found in new paths:\n",
            "SDEFG(13.0)\n",
            "\n",
            "ALGORITHM: Estimate extended uniform cost\n",
            "RESULT: SUCCES\n",
            "Elapsed time: 0.015378475189208984 seconds\n",
            "Number of iterations: 4\n",
            "Maximum length of queue: 4\n",
            "Accumulated cost of path to goal: 13.0\n"
          ]
        }
      ]
    },
    {
      "cell_type": "markdown",
      "source": [
        "We only need 4 iterations to find the optimal path! Note that in this case, the printed value after each path is the f-value, which is the sum of accumulated cost and heuristic value."
      ],
      "metadata": {
        "id": "UaFVnm99Ur6k"
      }
    },
    {
      "cell_type": "markdown",
      "source": [
        "### A*"
      ],
      "metadata": {
        "id": "M2JpF4kHSw1t"
      }
    },
    {
      "cell_type": "markdown",
      "source": [
        "Let's check if A* can do even better:"
      ],
      "metadata": {
        "id": "75qmWDI3U6Ke"
      }
    },
    {
      "cell_type": "code",
      "source": [
        "graph.search(AS, print_queue=True);"
      ],
      "metadata": {
        "colab": {
          "base_uri": "https://localhost:8080/"
        },
        "id": "aF2zVSEjSx0U",
        "outputId": "30f1130b-b2ec-4c83-c890-e181d15c75c7"
      },
      "execution_count": 23,
      "outputs": [
        {
          "output_type": "stream",
          "name": "stdout",
          "text": [
            "Initial queue:\n",
            "[S(11.0)]\n",
            "\n",
            "Iteration 1\n",
            "Path removed from queue:\n",
            "S(11.0)\n",
            "New paths:\n",
            "[SA(13.4),SD(12.9)]\n",
            "Paths in queue:\n",
            "[SD(12.9),SA(13.4)]\n",
            "\n",
            "Iteration 2\n",
            "Path removed from queue:\n",
            "SD(12.9)\n",
            "New paths:\n",
            "[SDA(19.4),SDE(12.9)]\n",
            "Redundant paths:\n",
            "[SDA(19.4)]\n",
            "Paths in queue:\n",
            "[SDE(12.9),SA(13.4)]\n",
            "\n",
            "Iteration 3\n",
            "Path removed from queue:\n",
            "SDE(12.9)\n",
            "New paths:\n",
            "[SDEB(17.7),SDEF(13.0)]\n",
            "Paths in queue:\n",
            "[SDEF(13.0),SA(13.4),SDEB(17.7)]\n",
            "\n",
            "Iteration 4\n",
            "Path removed from queue:\n",
            "SDEF(13.0)\n",
            "New paths:\n",
            "[SDEFG(13.0)]\n",
            "Paths in queue:\n",
            "[SDEFG(13.0),SA(13.4),SDEB(17.7)]\n",
            "\n",
            "Path to goal found in new paths:\n",
            "SDEFG(13.0)\n",
            "\n",
            "ALGORITHM: A*\n",
            "RESULT: SUCCES\n",
            "Elapsed time: 0.01381993293762207 seconds\n",
            "Number of iterations: 4\n",
            "Maximum length of queue: 3\n",
            "Accumulated cost of path to goal: 13.0\n"
          ]
        }
      ]
    },
    {
      "cell_type": "markdown",
      "source": [
        "In this small example, only one redundant path is deleted in iteration 2. When solving larger problems, however, redundant path deletion definitely makes a (big) difference!"
      ],
      "metadata": {
        "id": "_jyelppPVIBy"
      }
    },
    {
      "cell_type": "markdown",
      "source": [
        "##Route planning example"
      ],
      "metadata": {
        "id": "rOa5tySxWH5t"
      }
    },
    {
      "cell_type": "markdown",
      "source": [
        "Consider 7 cities in the Belgian province of West Flanders: Kortrijk, Roeselare, Ieper, Veurne, Brugge, Waregem, and Oostende. We have to travel from Waregem to Veurne, and therefore we need to find the shortest route in distance."
      ],
      "metadata": {
        "id": "x9YQt9vBYa_o"
      }
    },
    {
      "cell_type": "markdown",
      "source": [
        "Dictionary `latlon` contains the latitude and longitude coordinate of each city:"
      ],
      "metadata": {
        "id": "yKPoyb8KaYvC"
      }
    },
    {
      "cell_type": "code",
      "source": [
        "latlon = dict(K=[50.818991968015816, 3.257750789112345],   # Kortrijk\n",
        "              R=[50.95079505659209, 3.12951304151648],     # Roeselare\n",
        "              I=[50.84914711747873, 2.8767457158400944],   # Ieper\n",
        "              V=[51.07067249574684, 2.6680470070455904],   # Veurne\n",
        "              B=[51.21004787618063, 3.226330063140007],    # Brugge\n",
        "              W=[50.88927004676849, 3.423023700102434],    # Waregem\n",
        "              O=[51.21510254021232, 2.9295193261268713])   # Oostende"
      ],
      "metadata": {
        "id": "mBAN22F5WO-s"
      },
      "execution_count": 24,
      "outputs": []
    },
    {
      "cell_type": "markdown",
      "source": [
        "Note that the city names are abbreviated using their first letter."
      ],
      "metadata": {
        "id": "RqoAn1R7ZGhd"
      }
    },
    {
      "cell_type": "markdown",
      "source": [
        "The cities are connected to each other by routes, which can be represented by a graph, where the nodes correspond to the cities and the edges to the routes. The cost of an edge is the distance of the corresponding route between the two cities it connects. The heuristic value of each node is the estimated distance based on bird's eye view between the city represented by the node and the city of Veurne, which corresponds to the goal node.\n",
        "\n",
        "Let's define this graph:"
      ],
      "metadata": {
        "id": "glXH1rVRbtgz"
      }
    },
    {
      "cell_type": "code",
      "source": [
        "cities = Graph.create(edges=[(\"K\", \"I\", 30),\n",
        "                             (\"K\", \"R\", 25),\n",
        "                             (\"K\", \"W\", 15),\n",
        "                             (\"I\", \"R\", 25),\n",
        "                             (\"I\", \"V\", 30),\n",
        "                             (\"V\", \"O\", 30),\n",
        "                             (\"W\", \"R\", 30),\n",
        "                             (\"R\", \"B\", 40),\n",
        "                             (\"W\", \"B\", 55),\n",
        "                             (\"R\", \"O\", 40),\n",
        "                             (\"O\", \"B\", 30)],\n",
        "                      start=\"W\", \n",
        "                      goal=\"V\",\n",
        "                      heuristic=dict(W=65, K=55, I=25, R=40, B=50, O=25, V=0))"
      ],
      "metadata": {
        "id": "xVjkL5exWrOh"
      },
      "execution_count": 33,
      "outputs": []
    },
    {
      "cell_type": "markdown",
      "source": [
        "To plot the graph, we call method `plot` and pass dictionary `latlon`. However, we need to switch latitude and longitude:"
      ],
      "metadata": {
        "id": "4T5dLM2CcD9x"
      }
    },
    {
      "cell_type": "code",
      "source": [
        "cities.plot({city: [ll[1], ll[0]] for city, ll in latlon.items()})"
      ],
      "metadata": {
        "colab": {
          "base_uri": "https://localhost:8080/",
          "height": 319
        },
        "id": "d8pfQ2OBXmsG",
        "outputId": "ac09d1fd-df8a-48c4-bbf0-404564b57ec6"
      },
      "execution_count": 34,
      "outputs": [
        {
          "output_type": "display_data",
          "data": {
            "text/plain": [
              "<Figure size 432x288 with 1 Axes>"
            ],
            "image/png": "[encoded data removed]"
          },
          "metadata": {}
        }
      ]
    },
    {
      "cell_type": "markdown",
      "source": [
        "The shortest route in distance is the optimal path, which can be found by applying A*:"
      ],
      "metadata": {
        "id": "7cjqTeT_cSi-"
      }
    },
    {
      "cell_type": "code",
      "source": [
        "print(\"Shortest route:\", cities.search(AS))"
      ],
      "metadata": {
        "colab": {
          "base_uri": "https://localhost:8080/"
        },
        "id": "cOZZcdzaYCll",
        "outputId": "c8eb7ca1-3fdc-40c5-f668-c719b22e5dd9"
      },
      "execution_count": 35,
      "outputs": [
        {
          "output_type": "stream",
          "name": "stdout",
          "text": [
            "ALGORITHM: A*\n",
            "RESULT: SUCCES\n",
            "Elapsed time: 0.002642393112182617 seconds\n",
            "Number of iterations: 4\n",
            "Maximum length of queue: 3\n",
            "Accumulated cost of path to goal: 75.0\n",
            "Shortest route: WKIV\n"
          ]
        }
      ]
    },
    {
      "cell_type": "markdown",
      "source": [
        "The shortest route in distance is Waregem - Kortrijk - Ieper - Veurne!"
      ],
      "metadata": {
        "id": "QkkcBV-MdHa7"
      }
    }
  ]
}